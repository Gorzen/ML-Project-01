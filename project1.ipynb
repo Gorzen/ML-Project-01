{
 "cells": [
  {
   "cell_type": "code",
   "execution_count": 86,
   "metadata": {},
   "outputs": [
    {
     "name": "stdout",
     "output_type": "stream",
     "text": [
      "The autoreload extension is already loaded. To reload it, use:\n",
      "  %reload_ext autoreload\n"
     ]
    }
   ],
   "source": [
    "# Useful starting lines\n",
    "%matplotlib inline\n",
    "import numpy as np\n",
    "import matplotlib.pyplot as plt\n",
    "from proj1_helpers import *\n",
    "from implementations import *\n",
    "%load_ext autoreload\n",
    "%autoreload 2"
   ]
  },
  {
   "cell_type": "markdown",
   "metadata": {},
   "source": [
    "## Load the training data into feature matrix, class labels, and event ids:"
   ]
  },
  {
   "cell_type": "code",
   "execution_count": 148,
   "metadata": {},
   "outputs": [],
   "source": [
    "def standardize(tX):\n",
    "    mean = np.mean(tX, axis=0)\n",
    "    std = np.std(tX, axis=0)\n",
    "    tX = (tX - mean) / std\n",
    "    return tX"
   ]
  },
  {
   "cell_type": "code",
   "execution_count": 234,
   "metadata": {},
   "outputs": [],
   "source": [
    "def add_bias(tX):\n",
    "    return np.hstack((np.ones((tX.shape[0], 1)), tX))"
   ]
  },
  {
   "cell_type": "code",
   "execution_count": 235,
   "metadata": {
    "collapsed": false,
    "jupyter": {
     "outputs_hidden": false
    }
   },
   "outputs": [],
   "source": [
    "DATA_TRAIN_PATH = 'data/train.csv' \n",
    "y, full_tX, ids = load_csv_data(DATA_TRAIN_PATH)"
   ]
  },
  {
   "cell_type": "markdown",
   "metadata": {},
   "source": [
    "Reduce dimensions and standardize the columns of X"
   ]
  },
  {
   "cell_type": "code",
   "execution_count": 236,
   "metadata": {},
   "outputs": [],
   "source": [
    "full_tX_red = full_tX[:, [0, 1, 2, 3, 8, 9, 10, 11, 13, 19, 21, 22, 29]]\n",
    "full_tX_red_norm = standardize(full_tX_red)"
   ]
  },
  {
   "cell_type": "markdown",
   "metadata": {},
   "source": [
    "Chunk the training set"
   ]
  },
  {
   "cell_type": "code",
   "execution_count": 237,
   "metadata": {},
   "outputs": [],
   "source": [
    "tX_train = full_tX_red_norm[:80000][:].copy()\n",
    "tX_train_bias = add_bias(tX_train)\n",
    "y_train = y[:80000][:].copy()[:, np.newaxis]"
   ]
  },
  {
   "cell_type": "markdown",
   "metadata": {},
   "source": [
    "Augment the training set with the constant w0"
   ]
  },
  {
   "cell_type": "code",
   "execution_count": 238,
   "metadata": {},
   "outputs": [
    {
     "name": "stdout",
     "output_type": "stream",
     "text": [
      "Iteration : 0 with loss [[13025.74739044]]\n",
      "Iteration : 50 with loss [[-16356.98175696]]\n",
      "Iteration : 100 with loss [[-32658.75312963]]\n",
      "Iteration : 150 with loss [[-47970.0973406]]\n",
      "Iteration : 200 with loss [[-63005.04435099]]\n",
      "Iteration : 250 with loss [[-77902.96975298]]\n",
      "Iteration : 300 with loss [[-92714.3109318]]\n",
      "Iteration : 350 with loss [[-107463.03111276]]\n",
      "Iteration : 400 with loss [[-122162.22810561]]\n",
      "Iteration : 450 with loss [[-136819.74051415]]\n",
      "Iteration : 500 with loss [[-151440.5768695]]\n",
      "Iteration : 550 with loss [[-166028.10053022]]\n",
      "Iteration : 600 with loss [[-180584.66054959]]\n",
      "Iteration : 650 with loss [[-195111.95106663]]\n",
      "Iteration : 700 with loss [[-209611.22734048]]\n",
      "Iteration : 750 with loss [[-224083.44140683]]\n",
      "Iteration : 800 with loss [[-238529.33037997]]\n",
      "Iteration : 850 with loss [[-252949.47567487]]\n",
      "Iteration : 900 with loss [[-267344.34374136]]\n",
      "Iteration : 950 with loss [[-281714.31469747]]\n"
     ]
    }
   ],
   "source": [
    "w = np.random.rand(tX_chunk1_aug.shape[1], 1)\n",
    "w_final, loss = reg_logistic_regression(y_chunk1, tX_chunk1_aug, 0.8, w, 1000, 0.00001, True)"
   ]
  },
  {
   "cell_type": "code",
   "execution_count": 239,
   "metadata": {},
   "outputs": [],
   "source": [
    "def compute_accuracy(y, tX, w):\n",
    "    mapping = np.vectorize((lambda x: -1 if 0 <= x < 0.5 else 1))\n",
    "    predictions = mapping(sigmoid(tX @ w))\n",
    "    return np.sum(y == predictions)/(y.shape[0])"
   ]
  },
  {
   "cell_type": "code",
   "execution_count": 240,
   "metadata": {},
   "outputs": [
    {
     "data": {
      "text/plain": [
       "0.6931"
      ]
     },
     "execution_count": 240,
     "metadata": {},
     "output_type": "execute_result"
    }
   ],
   "source": [
    "y_test = y[80000:90000][:].copy()[:,np.newaxis]\n",
    "tX_test = full_tX_red_norm[80000:90000][:].copy()\n",
    "tX_test = add_bias(tX_test)\n",
    "compute_accuracy(y_test, tX_test, w_final)"
   ]
  },
  {
   "cell_type": "code",
   "execution_count": 241,
   "metadata": {},
   "outputs": [
    {
     "name": "stdout",
     "output_type": "stream",
     "text": [
      "(80000, 1) (80000, 14) (14, 1)\n"
     ]
    },
    {
     "data": {
      "text/plain": [
       "0.69655"
      ]
     },
     "execution_count": 241,
     "metadata": {},
     "output_type": "execute_result"
    }
   ],
   "source": [
    "print(y_train.shape, tX_train_bias.shape, w_final.shape)\n",
    "compute_accuracy(y_train, tX_train_bias, w_final)"
   ]
  },
  {
   "cell_type": "markdown",
   "metadata": {},
   "source": [
    "## Generate predictions and save ouput in csv format for submission:\n"
   ]
  },
  {
   "cell_type": "code",
   "execution_count": 10,
   "metadata": {
    "collapsed": false,
    "jupyter": {
     "outputs_hidden": false
    }
   },
   "outputs": [],
   "source": [
    "DATA_TEST_PATH = '' # TODO: download train data and supply path here \n",
    "_, tX_test, ids_test = load_csv_data(DATA_TEST_PATH)"
   ]
  },
  {
   "cell_type": "code",
   "execution_count": 31,
   "metadata": {
    "collapsed": false,
    "jupyter": {
     "outputs_hidden": false
    }
   },
   "outputs": [],
   "source": [
    "OUTPUT_PATH = '' # TODO: fill in desired name of output file for submission\n",
    "y_pred = predict_labels(weights, tX_test)\n",
    "create_csv_submission(ids_test, y_pred, OUTPUT_PATH)"
   ]
  },
  {
   "cell_type": "code",
   "execution_count": null,
   "metadata": {
    "collapsed": true,
    "jupyter": {
     "outputs_hidden": true
    }
   },
   "outputs": [],
   "source": []
  }
 ],
 "metadata": {
  "anaconda-cloud": {},
  "kernelspec": {
   "display_name": "Python 3",
   "language": "python",
   "name": "python3"
  },
  "language_info": {
   "codemirror_mode": {
    "name": "ipython",
    "version": 3
   },
   "file_extension": ".py",
   "mimetype": "text/x-python",
   "name": "python",
   "nbconvert_exporter": "python",
   "pygments_lexer": "ipython3",
   "version": "3.7.4"
  }
 },
 "nbformat": 4,
 "nbformat_minor": 4
}
