{
 "cells": [
  {
   "cell_type": "code",
   "execution_count": 306,
   "metadata": {},
   "outputs": [
    {
     "name": "stdout",
     "output_type": "stream",
     "text": [
      "The autoreload extension is already loaded. To reload it, use:\n",
      "  %reload_ext autoreload\n"
     ]
    }
   ],
   "source": [
    "# Useful starting lines\n",
    "%matplotlib inline\n",
    "import numpy as np\n",
    "import matplotlib.pyplot as plt\n",
    "from proj1_helpers import *\n",
    "from helpers import *\n",
    "from implementations import *\n",
    "%load_ext autoreload\n",
    "%autoreload 2"
   ]
  },
  {
   "cell_type": "markdown",
   "metadata": {},
   "source": [
    "## Load the training data into feature matrix, class labels, and event ids:"
   ]
  },
  {
   "cell_type": "code",
   "execution_count": 307,
   "metadata": {
    "collapsed": false,
    "jupyter": {
     "outputs_hidden": false
    }
   },
   "outputs": [],
   "source": [
    "DATA_TRAIN_PATH = 'data/train.csv' \n",
    "y, full_tX, ids = load_csv_data(DATA_TRAIN_PATH)"
   ]
  },
  {
   "cell_type": "markdown",
   "metadata": {},
   "source": [
    "Reduce dimensions and standardize the columns of X"
   ]
  },
  {
   "cell_type": "code",
   "execution_count": 308,
   "metadata": {},
   "outputs": [],
   "source": [
    "full_tX_red = full_tX[:, [0, 1, 2, 3, 8, 9, 10, 11, 13, 19, 21, 22, 29]]\n",
    "full_tX_red_norm = standardize(full_tX_red)"
   ]
  },
  {
   "cell_type": "markdown",
   "metadata": {},
   "source": [
    "Chunk the training set"
   ]
  },
  {
   "cell_type": "code",
   "execution_count": 335,
   "metadata": {},
   "outputs": [
    {
     "data": {
      "text/plain": [
       "array([ 1.00000000e+00,  4.61413715e-01,  6.83319669e-02,  4.07680272e-01,\n",
       "       -4.69966242e-01,  1.03309853e+00,  3.39894409e-01,  1.70928751e-01,\n",
       "        1.27708372e+00, -2.70810701e-01, -7.56756847e-01,  3.86846731e-01,\n",
       "        1.04440205e+00,  4.12510497e-01,  2.12902616e-01,  4.66925770e-03,\n",
       "        1.66203205e-01,  2.20868269e-01,  1.06729257e+00,  1.15528209e-01,\n",
       "        2.92166381e-02,  1.63094282e+00,  7.33384356e-02,  5.72680926e-01,\n",
       "        1.49650393e-01,  1.09077565e+00,  1.70164910e-01,  9.82361872e-02,\n",
       "        3.19059563e-04,  6.77577677e-02, -1.03800630e-01,  1.10261838e+00,\n",
       "        3.92673924e-02,  4.99396346e-03,  2.08285051e+00, -1.98608331e-02,\n",
       "       -4.33380212e-01,  5.78917654e-02,  1.13920833e+00,  7.01948118e-02])"
      ]
     },
     "execution_count": 335,
     "metadata": {},
     "output_type": "execute_result"
    }
   ],
   "source": [
    "tX_train = full_tX_red_norm[:80000][:].copy()\n",
    "tX_train = build_poly(tX_train, 3)\n",
    "y_train = y[:80000][:].copy()[:, np.newaxis]\n",
    "tX_train[0]"
   ]
  },
  {
   "cell_type": "markdown",
   "metadata": {},
   "source": [
    "Augment the training set with the constant w0"
   ]
  },
  {
   "cell_type": "code",
   "execution_count": 339,
   "metadata": {},
   "outputs": [
    {
     "name": "stderr",
     "output_type": "stream",
     "text": [
      "/home/flo/EPFL/ML/ML-Project-01/helpers.py:138: RuntimeWarning: overflow encountered in exp\n",
      "  exp = np.exp(tx @ w)\n",
      "/home/flo/EPFL/ML/ML-Project-01/implementations.py:149: RuntimeWarning: invalid value encountered in subtract\n",
      "  if np.abs(loss - new_loss) < threshold:\n"
     ]
    },
    {
     "name": "stdout",
     "output_type": "stream",
     "text": [
      "Iteration : 0 with loss [[inf]]\n",
      "Iteration : 100 with loss [[inf]]\n",
      "Iteration : 200 with loss [[inf]]\n",
      "Iteration : 300 with loss [[inf]]\n",
      "Iteration : 400 with loss [[inf]]\n",
      "Iteration : 500 with loss [[inf]]\n",
      "Iteration : 600 with loss [[inf]]\n",
      "Iteration : 700 with loss [[inf]]\n",
      "Iteration : 800 with loss [[inf]]\n",
      "Iteration : 900 with loss [[inf]]\n",
      "Iteration : 1000 with loss [[inf]]\n",
      "Iteration : 1100 with loss [[inf]]\n",
      "Iteration : 1200 with loss [[inf]]\n",
      "Iteration : 1300 with loss [[inf]]\n",
      "Iteration : 1400 with loss [[inf]]\n",
      "Iteration : 1500 with loss [[inf]]\n",
      "Iteration : 1600 with loss [[inf]]\n",
      "Iteration : 1700 with loss [[inf]]\n",
      "Iteration : 1800 with loss [[inf]]\n",
      "Iteration : 1900 with loss [[inf]]\n",
      "Iteration : 2000 with loss [[inf]]\n",
      "Iteration : 2100 with loss [[inf]]\n",
      "Iteration : 2200 with loss [[inf]]\n",
      "Iteration : 2300 with loss [[inf]]\n",
      "Iteration : 2400 with loss [[inf]]\n"
     ]
    }
   ],
   "source": [
    "w = np.random.rand(tX_train.shape[1], 1)\n",
    "w_final, loss = logistic_regression(y_train, tX_train, w, 2500, 0.001, verbose=True)"
   ]
  },
  {
   "cell_type": "code",
   "execution_count": 341,
   "metadata": {},
   "outputs": [
    {
     "data": {
      "text/plain": [
       "0.662"
      ]
     },
     "execution_count": 341,
     "metadata": {},
     "output_type": "execute_result"
    }
   ],
   "source": [
    "y_test = y[80000:90000][:].copy()[:,np.newaxis]\n",
    "tX_test = full_tX_red_norm[80000:90000][:].copy()\n",
    "tX_test = build_poly(tX_test, 3)\n",
    "compute_accuracy(y_test, tX_test, w_final)"
   ]
  },
  {
   "cell_type": "code",
   "execution_count": 342,
   "metadata": {},
   "outputs": [
    {
     "data": {
      "text/plain": [
       "0.6640125"
      ]
     },
     "execution_count": 342,
     "metadata": {},
     "output_type": "execute_result"
    }
   ],
   "source": [
    "compute_accuracy(y_train, tX_train, w_final)"
   ]
  },
  {
   "cell_type": "markdown",
   "metadata": {},
   "source": [
    "## Generate predictions and save ouput in csv format for submission:\n"
   ]
  },
  {
   "cell_type": "code",
   "execution_count": 10,
   "metadata": {
    "collapsed": false,
    "jupyter": {
     "outputs_hidden": false
    }
   },
   "outputs": [],
   "source": [
    "DATA_TEST_PATH = '' # TODO: download train data and supply path here \n",
    "_, tX_test, ids_test = load_csv_data(DATA_TEST_PATH)"
   ]
  },
  {
   "cell_type": "code",
   "execution_count": 31,
   "metadata": {
    "collapsed": false,
    "jupyter": {
     "outputs_hidden": false
    }
   },
   "outputs": [],
   "source": [
    "OUTPUT_PATH = '' # TODO: fill in desired name of output file for submission\n",
    "y_pred = predict_labels(weights, tX_test)\n",
    "create_csv_submission(ids_test, y_pred, OUTPUT_PATH)"
   ]
  },
  {
   "cell_type": "code",
   "execution_count": null,
   "metadata": {
    "collapsed": true,
    "jupyter": {
     "outputs_hidden": true
    }
   },
   "outputs": [],
   "source": []
  }
 ],
 "metadata": {
  "anaconda-cloud": {},
  "kernelspec": {
   "display_name": "Python 3",
   "language": "python",
   "name": "python3"
  },
  "language_info": {
   "codemirror_mode": {
    "name": "ipython",
    "version": 3
   },
   "file_extension": ".py",
   "mimetype": "text/x-python",
   "name": "python",
   "nbconvert_exporter": "python",
   "pygments_lexer": "ipython3",
   "version": "3.7.4"
  }
 },
 "nbformat": 4,
 "nbformat_minor": 4
}
