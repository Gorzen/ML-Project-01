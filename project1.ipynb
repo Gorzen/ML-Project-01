{
 "cells": [
  {
   "cell_type": "code",
   "execution_count": 40,
   "metadata": {},
   "outputs": [
    {
     "name": "stdout",
     "output_type": "stream",
     "text": [
      "The autoreload extension is already loaded. To reload it, use:\n",
      "  %reload_ext autoreload\n"
     ]
    }
   ],
   "source": [
    "# Useful starting lines\n",
    "%matplotlib inline\n",
    "import numpy as np\n",
    "import matplotlib.pyplot as plt\n",
    "from proj1_helpers import *\n",
    "from helpers import *\n",
    "from implementations import *\n",
    "%load_ext autoreload\n",
    "%autoreload 2"
   ]
  },
  {
   "cell_type": "markdown",
   "metadata": {},
   "source": [
    "## Load the training data into feature matrix, class labels, and event ids:"
   ]
  },
  {
   "cell_type": "code",
   "execution_count": 41,
   "metadata": {
    "collapsed": false,
    "jupyter": {
     "outputs_hidden": false
    }
   },
   "outputs": [
    {
     "data": {
      "text/plain": [
       "(125000, 30)"
      ]
     },
     "execution_count": 41,
     "metadata": {},
     "output_type": "execute_result"
    }
   ],
   "source": [
    "DATA_TRAIN_PATH = 'data/train.csv' \n",
    "y, x, ids = load_csv_data(DATA_TRAIN_PATH)\n",
    "x_train, x_test, y_train, y_test = split_data(x, y, 0.5)\n",
    "x_train.shape"
   ]
  },
  {
   "cell_type": "markdown",
   "metadata": {},
   "source": [
    "Reduce dimensions and standardize the columns of X"
   ]
  },
  {
   "cell_type": "code",
   "execution_count": 42,
   "metadata": {},
   "outputs": [],
   "source": [
    "x_train_red = x_train[:, [0, 1, 2, 3, 8, 9, 10, 11, 13, 19, 21, 22, 29]]\n",
    "x_test_red = x_test[:, [0, 1, 2, 3, 8, 9, 10, 11, 13, 19, 21, 22, 29]]\n",
    "\n",
    "x_train_red_norm = standardize(x_train_red)\n",
    "x_test_red_norm = standardize(x_test_red)"
   ]
  },
  {
   "cell_type": "markdown",
   "metadata": {},
   "source": [
    "Running logistic regression with different values of degrees (polynomial feature expansion), gamma and different initial weights"
   ]
  },
  {
   "cell_type": "code",
   "execution_count": 45,
   "metadata": {},
   "outputs": [
    {
     "name": "stdout",
     "output_type": "stream",
     "text": [
      "Running logistic regression with polynomial feature expansion with degree 1 and gamma 0.001 , with 2 different initial weights.\n",
      "Gradient have norm of 7.697947484825607e-11\n",
      "0 :\n",
      "Accuracy on training set 0.608256\n",
      "Accuracy on test set:,  0.607832\n",
      "Gradient have norm of 4.498891597645921\n",
      "1 :\n",
      "Accuracy on training set 0.68708\n",
      "Accuracy on test set:,  0.686968\n",
      "Running logistic regression with polynomial feature expansion with degree 1 and gamma 0.01 , with 2 different initial weights.\n",
      "Gradient have norm of 7.122238246587389e-11\n",
      "0 :\n",
      "Accuracy on training set 0.694128\n",
      "Accuracy on test set:,  0.6948\n",
      "Gradient have norm of 1.3351528466967908e-12\n",
      "1 :\n",
      "Accuracy on training set 0.697904\n",
      "Accuracy on test set:,  0.698472\n",
      "Running logistic regression with polynomial feature expansion with degree 1 and gamma 0.05 , with 2 different initial weights.\n",
      "Gradient have norm of 0.0\n",
      "0 :\n",
      "Accuracy on training set 0.697512\n",
      "Accuracy on test set:,  0.699928\n",
      "Gradient have norm of 0.0\n",
      "1 :\n",
      "Accuracy on training set 0.689936\n",
      "Accuracy on test set:,  0.690216\n",
      "Running logistic regression with polynomial feature expansion with degree 1 and gamma 0.1 , with 2 different initial weights.\n",
      "Gradient have norm of 9.898777738771255e-13\n",
      "0 :\n",
      "Accuracy on training set 0.693216\n",
      "Accuracy on test set:,  0.694144\n",
      "Gradient have norm of 1.3039140195264888e-13\n",
      "1 :\n",
      "Accuracy on training set 0.698456\n",
      "Accuracy on test set:,  0.6998\n",
      "Running logistic regression with polynomial feature expansion with degree 1 and gamma 0.5 , with 2 different initial weights.\n",
      "Gradient have norm of 3.765719806891776e-13\n",
      "0 :\n",
      "Accuracy on training set 0.686912\n",
      "Accuracy on test set:,  0.687888\n",
      "Gradient have norm of 0.0\n",
      "1 :\n",
      "Accuracy on training set 0.701648\n",
      "Accuracy on test set:,  0.702128\n",
      "Running logistic regression with polynomial feature expansion with degree 2 and gamma 0.001 , with 2 different initial weights.\n"
     ]
    },
    {
     "name": "stderr",
     "output_type": "stream",
     "text": [
      "/home/jules/documents/epfl/ma1/ml/ml-project1/helpers.py:138: RuntimeWarning: overflow encountered in exp\n",
      "  exp = np.exp(tx @ w)\n",
      "/home/jules/documents/epfl/ma1/ml/ml-project1/implementations.py:149: RuntimeWarning: invalid value encountered in subtract\n",
      "  if np.abs(loss - new_loss) < threshold:\n",
      "/home/jules/documents/epfl/ma1/ml/ml-project1/implementations.py:149: RuntimeWarning: invalid value encountered in less\n",
      "  if np.abs(loss - new_loss) < threshold:\n"
     ]
    },
    {
     "name": "stdout",
     "output_type": "stream",
     "text": [
      "Gradient have norm of 0.0\n",
      "0 :\n",
      "Accuracy on training set 0.665112\n",
      "Accuracy on test set:,  0.662536\n",
      "Gradient have norm of 6.975591752724758\n",
      "1 :\n",
      "Accuracy on training set 0.657968\n",
      "Accuracy on test set:,  0.656864\n",
      "Running logistic regression with polynomial feature expansion with degree 2 and gamma 0.01 , with 2 different initial weights.\n",
      "Gradient have norm of 2.035591043945241e-11\n",
      "0 :\n",
      "Accuracy on training set 0.664552\n",
      "Accuracy on test set:,  0.663328\n",
      "Gradient have norm of 6.297919432337137\n",
      "1 :\n",
      "Accuracy on training set 0.657976\n",
      "Accuracy on test set:,  0.656776\n",
      "Running logistic regression with polynomial feature expansion with degree 2 and gamma 0.05 , with 2 different initial weights.\n",
      "Gradient have norm of 3.61341948472581\n",
      "0 :\n",
      "Accuracy on training set 0.657896\n",
      "Accuracy on test set:,  0.656808\n",
      "Gradient have norm of 3.0064601150284567\n",
      "1 :\n",
      "Accuracy on training set 0.657896\n",
      "Accuracy on test set:,  0.656768\n",
      "Running logistic regression with polynomial feature expansion with degree 2 and gamma 0.1 , with 2 different initial weights.\n",
      "Gradient have norm of 15.280219092213608\n",
      "0 :\n",
      "Accuracy on training set 0.65988\n",
      "Accuracy on test set:,  0.659008\n",
      "Gradient have norm of 2.234566971739375\n",
      "1 :\n",
      "Accuracy on training set 0.657896\n",
      "Accuracy on test set:,  0.656768\n",
      "Running logistic regression with polynomial feature expansion with degree 2 and gamma 0.5 , with 2 different initial weights.\n",
      "Gradient have norm of 4.940093193940217\n",
      "0 :\n",
      "Accuracy on training set 0.657896\n",
      "Accuracy on test set:,  0.656768\n",
      "Gradient have norm of 49.02091173687481\n",
      "1 :\n",
      "Accuracy on training set 0.657968\n",
      "Accuracy on test set:,  0.656872\n",
      "Running logistic regression with polynomial feature expansion with degree 3 and gamma 0.001 , with 2 different initial weights.\n",
      "Gradient have norm of 0.0004120457231366359\n",
      "0 :\n",
      "Accuracy on training set 0.687856\n",
      "Accuracy on test set:,  0.68576\n",
      "Gradient have norm of 1.5109174878444354e-10\n",
      "1 :\n",
      "Accuracy on training set 0.587984\n",
      "Accuracy on test set:,  0.580944\n",
      "Running logistic regression with polynomial feature expansion with degree 3 and gamma 0.01 , with 2 different initial weights.\n",
      "Gradient have norm of 4.0654412825557903e-14\n",
      "0 :\n",
      "Accuracy on training set 0.659448\n",
      "Accuracy on test set:,  0.65652\n",
      "Gradient have norm of 0.0\n",
      "1 :\n",
      "Accuracy on training set 0.676712\n",
      "Accuracy on test set:,  0.673512\n",
      "Running logistic regression with polynomial feature expansion with degree 3 and gamma 0.05 , with 2 different initial weights.\n",
      "Gradient have norm of 0.0\n",
      "0 :\n",
      "Accuracy on training set 0.682472\n",
      "Accuracy on test set:,  0.681312\n",
      "Gradient have norm of 3.857984000150706\n",
      "1 :\n",
      "Accuracy on training set 0.680896\n",
      "Accuracy on test set:,  0.679472\n",
      "Running logistic regression with polynomial feature expansion with degree 3 and gamma 0.1 , with 2 different initial weights.\n",
      "Gradient have norm of 0.0\n",
      "0 :\n",
      "Accuracy on training set 0.62216\n",
      "Accuracy on test set:,  0.617768\n",
      "Gradient have norm of 9.442391373364742e-16\n",
      "1 :\n",
      "Accuracy on training set 0.650432\n",
      "Accuracy on test set:,  0.647616\n",
      "Running logistic regression with polynomial feature expansion with degree 3 and gamma 0.5 , with 2 different initial weights.\n",
      "Gradient have norm of 14.671776729550924\n",
      "0 :\n",
      "Accuracy on training set 0.634288\n",
      "Accuracy on test set:,  0.631936\n",
      "Gradient have norm of 14.526363403065288\n",
      "1 :\n",
      "Accuracy on training set 0.639752\n",
      "Accuracy on test set:,  0.63652\n",
      "Running logistic regression with polynomial feature expansion with degree 4 and gamma 0.001 , with 2 different initial weights.\n",
      "Gradient have norm of 0.0\n",
      "0 :\n",
      "Accuracy on training set 0.66888\n",
      "Accuracy on test set:,  0.666288\n",
      "Gradient have norm of 4.097463469639998\n",
      "1 :\n",
      "Accuracy on training set 0.669552\n",
      "Accuracy on test set:,  0.668056\n",
      "Running logistic regression with polynomial feature expansion with degree 4 and gamma 0.01 , with 2 different initial weights.\n",
      "Gradient have norm of 33.42475889720493\n",
      "0 :\n",
      "Accuracy on training set 0.666544\n",
      "Accuracy on test set:,  0.665256\n",
      "Gradient have norm of 4.6765421085254735\n",
      "1 :\n",
      "Accuracy on training set 0.657896\n",
      "Accuracy on test set:,  0.656768\n",
      "Running logistic regression with polynomial feature expansion with degree 4 and gamma 0.05 , with 2 different initial weights.\n",
      "Gradient have norm of 6.7833776032323305\n",
      "0 :\n",
      "Accuracy on training set 0.668704\n",
      "Accuracy on test set:,  0.667744\n",
      "Gradient have norm of 5.524559549180041\n",
      "1 :\n",
      "Accuracy on training set 0.658248\n",
      "Accuracy on test set:,  0.657184\n",
      "Running logistic regression with polynomial feature expansion with degree 4 and gamma 0.1 , with 2 different initial weights.\n",
      "Gradient have norm of 29.153882667092784\n",
      "0 :\n",
      "Accuracy on training set 0.675048\n",
      "Accuracy on test set:,  0.672504\n",
      "Gradient have norm of 10.099484059048564\n",
      "1 :\n",
      "Accuracy on training set 0.662992\n",
      "Accuracy on test set:,  0.662024\n",
      "Running logistic regression with polynomial feature expansion with degree 4 and gamma 0.5 , with 2 different initial weights.\n",
      "Gradient have norm of 172.25880309697538\n",
      "0 :\n",
      "Accuracy on training set 0.657896\n",
      "Accuracy on test set:,  0.656768\n",
      "Gradient have norm of 4.571290235281378\n",
      "1 :\n",
      "Accuracy on training set 0.657896\n",
      "Accuracy on test set:,  0.656768\n"
     ]
    }
   ],
   "source": [
    "number_of_w = 2\n",
    "\n",
    "for degree in range(1, 5):\n",
    "    tx_train = build_poly(x_train_red_norm, degree)\n",
    "    tx_test = build_poly(x_test_red_norm, degree)\n",
    "    for gamma in np.array([0.001, 0.01, 0.05, 0.1, 0.5]):\n",
    "        print(\"Running logistic regression with polynomial feature expansion with degree\", degree, \n",
    "                 \"and gamma\", gamma,\", with\", number_of_w, \"different initial weights.\")\n",
    "        for i in  range(number_of_w):\n",
    "            w_init = np.random.rand(tx_train.shape[1], 1)\n",
    "            #print(y_train.shape, tx_train.shape, w_init.shape)\n",
    "            w, loss = logistic_regression(y_train, tx_train, w_init, 5000, gamma)\n",
    "            print(i,\":\")\n",
    "            print(\"Accuracy on training set\", compute_accuracy(y_train, tx_train, w))\n",
    "            print(\"Accuracy on test set:, \", compute_accuracy(y_test, tx_test, w))"
   ]
  },
  {
   "cell_type": "markdown",
   "metadata": {},
   "source": [
    "## Generate predictions and save ouput in csv format for submission:\n"
   ]
  },
  {
   "cell_type": "code",
   "execution_count": 10,
   "metadata": {
    "collapsed": false,
    "jupyter": {
     "outputs_hidden": false
    }
   },
   "outputs": [],
   "source": [
    "DATA_TEST_PATH = '' # TODO: download train data and supply path here \n",
    "_, tX_test, ids_test = load_csv_data(DATA_TEST_PATH)"
   ]
  },
  {
   "cell_type": "code",
   "execution_count": 31,
   "metadata": {
    "collapsed": false,
    "jupyter": {
     "outputs_hidden": false
    }
   },
   "outputs": [],
   "source": [
    "OUTPUT_PATH = '' # TODO: fill in desired name of output file for submission\n",
    "y_pred = predict_labels(weights, tX_test)\n",
    "create_csv_submission(ids_test, y_pred, OUTPUT_PATH)"
   ]
  },
  {
   "cell_type": "code",
   "execution_count": 346,
   "metadata": {},
   "outputs": [
    {
     "data": {
      "text/plain": [
       "array([1., 1., 0., 0., 1., 0., 0., 0., 1., 1., 1., 1., 1., 1., 0., 1., 0.,\n",
       "       1., 0., 1., 0., 0., 0., 1., 0., 0., 0., 0., 0., 0.])"
      ]
     },
     "execution_count": 346,
     "metadata": {},
     "output_type": "execute_result"
    }
   ],
   "source": [
    "a = np.random.rand(30)\n",
    "np.around(a)"
   ]
  },
  {
   "cell_type": "code",
   "execution_count": 347,
   "metadata": {},
   "outputs": [
    {
     "data": {
      "text/plain": [
       "array([0.98948792, 0.67934654, 0.34673991, 0.48885077, 0.5348651 ,\n",
       "       0.08436905, 0.02071519, 0.18776387, 0.52188862, 0.85832073,\n",
       "       0.50843456, 0.60499752, 0.84728409, 0.93295583, 0.00486189,\n",
       "       0.66121463, 0.3157777 , 0.6534353 , 0.12888288, 0.54033186,\n",
       "       0.44024959, 0.37952039, 0.0833081 , 0.55721317, 0.36309742,\n",
       "       0.2762448 , 0.46041519, 0.00914704, 0.35695435, 0.45490402])"
      ]
     },
     "execution_count": 347,
     "metadata": {},
     "output_type": "execute_result"
    }
   ],
   "source": [
    "a"
   ]
  },
  {
   "cell_type": "code",
   "execution_count": null,
   "metadata": {},
   "outputs": [],
   "source": []
  }
 ],
 "metadata": {
  "anaconda-cloud": {},
  "kernelspec": {
   "display_name": "Python 3",
   "language": "python",
   "name": "python3"
  },
  "language_info": {
   "codemirror_mode": {
    "name": "ipython",
    "version": 3
   },
   "file_extension": ".py",
   "mimetype": "text/x-python",
   "name": "python",
   "nbconvert_exporter": "python",
   "pygments_lexer": "ipython3",
   "version": "3.7.4"
  }
 },
 "nbformat": 4,
 "nbformat_minor": 4
}
