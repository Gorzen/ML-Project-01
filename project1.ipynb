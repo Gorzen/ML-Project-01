{
 "cells": [
  {
   "cell_type": "code",
   "execution_count": 4,
   "metadata": {},
   "outputs": [],
   "source": [
    "# Useful starting lines\n",
    "%matplotlib inline\n",
    "import numpy as np\n",
    "import matplotlib.pyplot as plt\n",
    "from proj1_helpers import *\n",
    "from helpers import *\n",
    "from implementations import *\n",
    "%load_ext autoreload\n",
    "%autoreload 2"
   ]
  },
  {
   "cell_type": "markdown",
   "metadata": {},
   "source": [
    "#### Load the training data into feature matrix, class labels, and event ids:"
   ]
  },
  {
   "cell_type": "code",
   "execution_count": 5,
   "metadata": {
    "collapsed": false,
    "jupyter": {
     "outputs_hidden": false
    }
   },
   "outputs": [],
   "source": [
    "y_train, x_train, _ = load_csv_data('data/train.csv')"
   ]
  },
  {
   "cell_type": "markdown",
   "metadata": {},
   "source": [
    "#### Sanitizing the missing values and standardize the features"
   ]
  },
  {
   "cell_type": "code",
   "execution_count": 28,
   "metadata": {},
   "outputs": [
    {
     "name": "stdout",
     "output_type": "stream",
     "text": [
      "0.0\n",
      "1.0\n",
      "2.0\n",
      "3.0\n"
     ]
    }
   ],
   "source": [
    "sanitized_x = sanitize(x_train)\n",
    "y = y_train.reshape((y_train.shape[0], 1))\n",
    "\n",
    "feature_22 = sanitized_x[:, 22]\n",
    "x_minus_22 = sanitized_x[:, np.array(range(sanitized_x.shape[1])) != 22]\n",
    "x_sep = []\n",
    "y_sep = []\n",
    "\n",
    "categories_22 = np.unique(feature_22)\n",
    "\n",
    "for i in np.unique(feature_22):\n",
    "    print(i)\n",
    "    x_sep.append(x_minus_22[feature_22 == i, :])\n",
    "    y_sep.append(y[feature_22 == i, :])\n"
   ]
  },
  {
   "cell_type": "markdown",
   "metadata": {},
   "source": [
    "Extend the features with sqrt sin and cos"
   ]
  },
  {
   "cell_type": "code",
   "execution_count": 29,
   "metadata": {},
   "outputs": [
    {
     "data": {
      "text/plain": [
       "array([[ 0.38476846,  0.9103791 , -0.00585329, ..., -0.86338833,\n",
       "         0.73478992, -0.67829475],\n",
       "       [ 0.94253641, -0.91455619,  1.31336873, ..., -0.86338833,\n",
       "         0.73478992, -0.67829475],\n",
       "       [-0.28385846,  0.03732318,  0.48512597, ..., -0.86338833,\n",
       "         0.73478992, -0.67829475],\n",
       "       ...,\n",
       "       [ 0.        ,  0.2529135 , -0.32082851, ..., -0.86338833,\n",
       "         0.73478992, -0.67829475],\n",
       "       [-0.46960659, -0.84532397, -0.30297338, ..., -0.86338833,\n",
       "         0.73478992, -0.67829475],\n",
       "       [ 0.        ,  0.66533608, -0.25352276, ..., -0.86338833,\n",
       "         0.73478992, -0.67829475]])"
      ]
     },
     "execution_count": 29,
     "metadata": {},
     "output_type": "execute_result"
    }
   ],
   "source": [
    "extended_x_sep = [add_sqrt(e) for e in x_sep]\n",
    "extended_x_sep[0]"
   ]
  },
  {
   "cell_type": "code",
   "execution_count": 30,
   "metadata": {},
   "outputs": [
    {
     "data": {
      "text/plain": [
       "[0.8418924464283927,\n",
       " 0.7951227690085629,\n",
       " 0.8215724805970742,\n",
       " 0.8170907778379354]"
      ]
     },
     "execution_count": 30,
     "metadata": {},
     "output_type": "execute_result"
    }
   ],
   "source": [
    "accuracies = []\n",
    "weights = []\n",
    "ys = []\n",
    "\n",
    "for i, x_chunk in enumerate(extended_x_sep):\n",
    "    w_init = np.random.rand(x_chunk.shape[1], 1)\n",
    "    w, loss = ridge_regression(y_sep[i], x_chunk, 0.0001)\n",
    "    y_pred = predict_labels(w, x_chunk)\n",
    "    accuracies.append(compute_accuracy_linear_reg(y_sep[i], y_pred))\n",
    "    weights.append(w)\n",
    "    ys.append(y_pred)\n",
    "    \n",
    "accuracies"
   ]
  },
  {
   "cell_type": "code",
   "execution_count": 31,
   "metadata": {},
   "outputs": [
    {
     "data": {
      "text/plain": [
       "array([[ 1.],\n",
       "       [-1.],\n",
       "       [-1.],\n",
       "       ...,\n",
       "       [-1.],\n",
       "       [ 1.],\n",
       "       [-1.]])"
      ]
     },
     "execution_count": 31,
     "metadata": {},
     "output_type": "execute_result"
    }
   ],
   "source": [
    "# Rebuilding final y for submission, in progress\n",
    "N = x_train.shape[0]\n",
    "predictions = np.zeros((N,1))\n",
    "\n",
    "for i, value in enumerate(categories_22):\n",
    "    ind = np.arange(N)[feature_22 == value]\n",
    "    predictions[ind] = ys[i]\n",
    "\n",
    "predictions"
   ]
  },
  {
   "cell_type": "code",
   "execution_count": 32,
   "metadata": {},
   "outputs": [
    {
     "data": {
      "text/plain": [
       "0.821092"
      ]
     },
     "execution_count": 32,
     "metadata": {},
     "output_type": "execute_result"
    }
   ],
   "source": [
    "compute_accuracy_linear_reg(y, predictions)"
   ]
  },
  {
   "cell_type": "code",
   "execution_count": null,
   "metadata": {},
   "outputs": [],
   "source": [
    "# Old but kept because can be useful as basis\n",
    "N = sanitized_x.shape[0]\n",
    "inds = np.random.choice(range(N), 100000, replace=False)\n",
    "sanitized_x_sub = sanitized_x[inds, :]\n",
    "sanitized_x_sub = sanitized_x_sub[:, [0,1,2,3,7,8,9,10,11,13,14,17,19,21,22,29]]\n",
    "sanitized_y_sub = sanitized_y[inds]\n",
    "x_train, x_test, y_train, y_test = split_data(sanitized_x, sanitized_y, 0.8)\n",
    "number_of_w = 1\n",
    "\n",
    "for degree in range(1, 5)\n",
    "    tx_train = build_poly(x_train, degree)\n",
    "    tx_test = build_poly(x_test, degree)\n",
    "    for gamma in np.array([0.01, 0.05, 0.1, 0.5]):\n",
    "        print(\"Running logistic regression with polynomial feature expansion with degree\", degree, \n",
    "                 \"and gamma\", gamma,\", with\", number_of_w, \"different initial weights.\")\n",
    "        for i in  range(number_of_w):\n",
    "            w_init = np.random.rand(tx_train.shape[1], 1)\n",
    "            w, loss = logistic_regression(y_train, tx_train, w_init, 1000, gamma, verbose=True)\n",
    "            print(i,\":\")\n",
    "            print(\"Accuracy on training set\", compute_accuracy(y_train, tx_train, w))\n",
    "            print(\"Accuracy on test set:, \", compute_accuracy(y_test, tx_test, w))"
   ]
  },
  {
   "cell_type": "markdown",
   "metadata": {},
   "source": [
    "## Generate predictions and save ouput in csv format for submission:\n"
   ]
  },
  {
   "cell_type": "code",
   "execution_count": 34,
   "metadata": {
    "collapsed": false,
    "jupyter": {
     "outputs_hidden": false
    }
   },
   "outputs": [],
   "source": [
    "_, x_test, ids_test = load_csv_data('data/test.csv')"
   ]
  },
  {
   "cell_type": "code",
   "execution_count": 35,
   "metadata": {},
   "outputs": [
    {
     "name": "stdout",
     "output_type": "stream",
     "text": [
      "0.0\n",
      "1.0\n",
      "2.0\n",
      "3.0\n"
     ]
    }
   ],
   "source": [
    "sanitized_x_t = sanitize(x_test)\n",
    "\n",
    "feature_22_t = sanitized_x_t[:, 22]\n",
    "x_minus_22_t = sanitized_x_t[:, np.array(range(sanitized_x_t.shape[1])) != 22]\n",
    "x_sep_t = []\n",
    "\n",
    "categories_22_t = np.unique(feature_22_t)\n",
    "\n",
    "for i in np.unique(feature_22_t):\n",
    "    print(i)\n",
    "    x_sep_t.append(x_minus_22_t[feature_22_t == i, :])\n"
   ]
  },
  {
   "cell_type": "code",
   "execution_count": 39,
   "metadata": {},
   "outputs": [
    {
     "data": {
      "text/plain": [
       "array([[ 0.        ,  0.85695592, -1.41340956, ..., -0.86258746,\n",
       "         0.73572682, -0.67727841],\n",
       "       [-0.07180953,  0.19686173,  0.37643086, ..., -0.86258746,\n",
       "         0.73572682, -0.67727841],\n",
       "       [ 0.24635352, -0.52705785,  0.39940857, ..., -0.86258746,\n",
       "         0.73572682, -0.67727841],\n",
       "       ...,\n",
       "       [-0.05036034,  0.75185168,  0.06502106, ..., -0.86258746,\n",
       "         0.73572682, -0.67727841],\n",
       "       [-0.23553134, -1.1138051 , -0.39465676, ..., -0.86258746,\n",
       "         0.73572682, -0.67727841],\n",
       "       [-0.51947781,  0.87164791, -0.08655773, ..., -0.86258746,\n",
       "         0.73572682, -0.67727841]])"
      ]
     },
     "execution_count": 39,
     "metadata": {},
     "output_type": "execute_result"
    }
   ],
   "source": [
    "extended_x_sep_t = [add_sqrt(e) for e in x_sep_t]\n",
    "extended_x_sep_t[0]"
   ]
  },
  {
   "cell_type": "code",
   "execution_count": 40,
   "metadata": {},
   "outputs": [],
   "source": [
    "y_sep_t = []\n",
    "\n",
    "for i, w in enumerate(weights):\n",
    "    y_t = predict_labels(w, extended_x_sep_t[i])\n",
    "    y_sep_t.append(y_t)"
   ]
  },
  {
   "cell_type": "code",
   "execution_count": 42,
   "metadata": {},
   "outputs": [
    {
     "data": {
      "text/plain": [
       "array([[-1.],\n",
       "       [-1.],\n",
       "       [-1.],\n",
       "       ...,\n",
       "       [ 1.],\n",
       "       [-1.],\n",
       "       [-1.]])"
      ]
     },
     "execution_count": 42,
     "metadata": {},
     "output_type": "execute_result"
    }
   ],
   "source": [
    "# Rebuilding final y for submission, in progress\n",
    "N = x_test.shape[0]\n",
    "predictions_t = np.zeros((N,1))\n",
    "\n",
    "for i, value in enumerate(categories_22_t):\n",
    "    ind = np.arange(N)[feature_22_t == value]\n",
    "    predictions_t[ind] = y_sep_t[i]\n",
    "\n",
    "predictions_t"
   ]
  },
  {
   "cell_type": "code",
   "execution_count": 45,
   "metadata": {
    "collapsed": false,
    "jupyter": {
     "outputs_hidden": false
    }
   },
   "outputs": [],
   "source": [
    "OUTPUT_PATH = 'predictions.csv'\n",
    "create_csv_submission(ids_test, predictions_t, OUTPUT_PATH)"
   ]
  },
  {
   "cell_type": "code",
   "execution_count": null,
   "metadata": {},
   "outputs": [],
   "source": []
  }
 ],
 "metadata": {
  "anaconda-cloud": {},
  "kernelspec": {
   "display_name": "Python 3",
   "language": "python",
   "name": "python3"
  },
  "language_info": {
   "codemirror_mode": {
    "name": "ipython",
    "version": 3
   },
   "file_extension": ".py",
   "mimetype": "text/x-python",
   "name": "python",
   "nbconvert_exporter": "python",
   "pygments_lexer": "ipython3",
   "version": "3.7.4"
  }
 },
 "nbformat": 4,
 "nbformat_minor": 4
}
