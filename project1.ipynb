{
 "cells": [
  {
   "cell_type": "code",
   "execution_count": 18,
   "metadata": {},
   "outputs": [
    {
     "name": "stdout",
     "output_type": "stream",
     "text": [
      "The autoreload extension is already loaded. To reload it, use:\n",
      "  %reload_ext autoreload\n"
     ]
    }
   ],
   "source": [
    "# Useful starting lines\n",
    "%matplotlib inline\n",
    "import numpy as np\n",
    "import matplotlib.pyplot as plt\n",
    "from proj1_helpers import *\n",
    "from helpers import *\n",
    "from implementations import *\n",
    "%load_ext autoreload\n",
    "%autoreload 2"
   ]
  },
  {
   "cell_type": "markdown",
   "metadata": {},
   "source": [
    "## Load the training data into feature matrix, class labels, and event ids:"
   ]
  },
  {
   "cell_type": "code",
   "execution_count": 19,
   "metadata": {
    "collapsed": false,
    "jupyter": {
     "outputs_hidden": false
    }
   },
   "outputs": [],
   "source": [
    "DATA_TRAIN_PATH = 'data/train.csv' \n",
    "y, x, ids = load_csv_data(DATA_TRAIN_PATH)"
   ]
  },
  {
   "cell_type": "code",
   "execution_count": 22,
   "metadata": {},
   "outputs": [],
   "source": [
    "sanitized_y = y.reshape((y.shape[0], 1))"
   ]
  },
  {
   "cell_type": "code",
   "execution_count": 23,
   "metadata": {},
   "outputs": [
    {
     "name": "stdout",
     "output_type": "stream",
     "text": [
      "1580052\n"
     ]
    },
    {
     "data": {
      "text/plain": [
       "array([-0.62125844,  0.        ,  0.        ,  0.        ,  0.        ,\n",
       "       -0.21926102, -0.53665123,  0.        ,  0.        ,  0.        ,\n",
       "        0.        , -0.29968666,  0.        ,  0.        ,  0.        ,\n",
       "        0.        ,  0.        ,  0.        ,  0.        ,  0.        ,\n",
       "        0.        ,  0.        ,  0.        , -0.01870612,  0.        ,\n",
       "        0.        ,  0.        ,  1.63325174,  0.        , -0.14063324,\n",
       "        0.        , -0.19070156,  1.21453303, -0.32085355,  0.        ,\n",
       "        0.        ,  0.        ,  0.        , -0.24220062, -0.51448357,\n",
       "        0.        ,  0.        ,  0.27107761,  0.        ,  0.        ,\n",
       "       -0.73823707,  0.30071075,  0.        ,  0.        ,  0.        ])"
      ]
     },
     "execution_count": 23,
     "metadata": {},
     "output_type": "execute_result"
    }
   ],
   "source": [
    "sanitized_x = x.copy()\n",
    "\n",
    "na_values_x = sanitized_x == -999\n",
    "\n",
    "print(np.sum(na_values_x))\n",
    "\n",
    "for i, feature in enumerate(sanitized_x.T):\n",
    "    na_values = feature == -999\n",
    "    known_values = ~na_values\n",
    "    \n",
    "    mean = np.mean(feature[known_values])\n",
    "    std = np.std(feature[known_values])\n",
    "    \n",
    "    sanitized_x[:, i] = sanitized_x[:, i] - mean\n",
    "    sanitized_x[:, i] = sanitized_x[:, i] / std\n",
    "    \n",
    "    \n",
    "sanitized_x[na_values_x] = 0\n",
    "sanitized_x[:,5][:50]"
   ]
  },
  {
   "cell_type": "code",
   "execution_count": 25,
   "metadata": {},
   "outputs": [
    {
     "name": "stdout",
     "output_type": "stream",
     "text": [
      "(30, 1)\n",
      "Iteration : 0 with loss [[10.47290029]] and gradient: [[ 1.76726282]\n",
      " [-0.29923856]\n",
      " [ 1.62254188]\n",
      " [ 3.41462974]\n",
      " [-0.02015559]\n",
      " [ 0.37110268]\n",
      " [-0.05416912]\n",
      " [-0.97019522]\n",
      " [ 2.26926176]\n",
      " [ 3.82400243]\n",
      " [ 0.11302892]\n",
      " [ 2.08562892]\n",
      " [ 0.09305065]\n",
      " [ 2.45555473]\n",
      " [ 0.29082197]\n",
      " [-0.01372632]\n",
      " [ 1.84004905]\n",
      " [ 0.49211275]\n",
      " [ 0.49752027]\n",
      " [ 2.45341829]\n",
      " [ 0.61857722]\n",
      " [ 3.69032119]\n",
      " [ 2.73002668]\n",
      " [ 2.00235552]\n",
      " [ 0.17163147]\n",
      " [ 0.01814922]\n",
      " [ 0.94874223]\n",
      " [ 0.03937312]\n",
      " [ 0.14073496]\n",
      " [ 3.53847364]]\n",
      "Iteration : 500 with loss [[0.43524241]] and gradient: [[ 0.01626948]\n",
      " [ 0.01113735]\n",
      " [ 0.01517624]\n",
      " [ 0.01449179]\n",
      " [ 0.00495708]\n",
      " [-0.00133732]\n",
      " [ 0.02299805]\n",
      " [-0.02767768]\n",
      " [ 0.00788255]\n",
      " [-0.00813798]\n",
      " [ 0.0250116 ]\n",
      " [ 0.01870171]\n",
      " [ 0.03190589]\n",
      " [ 0.00428636]\n",
      " [-0.00992155]\n",
      " [ 0.01352211]\n",
      " [-0.03549615]\n",
      " [ 0.00817773]\n",
      " [ 0.01821398]\n",
      " [-0.01368888]\n",
      " [ 0.01381836]\n",
      " [ 0.00132249]\n",
      " [-0.01832004]\n",
      " [-0.01479997]\n",
      " [ 0.00517461]\n",
      " [ 0.03422558]\n",
      " [ 0.05160924]\n",
      " [ 0.00811202]\n",
      " [ 0.05840591]\n",
      " [-0.00259613]]\n",
      "[[ 0.00443928]\n",
      " [-0.22420039]\n",
      " [-0.15000768]\n",
      " [ 0.16937464]\n",
      " [ 0.32271873]\n",
      " [ 0.07281459]\n",
      " [ 0.25770315]\n",
      " [ 0.20758746]\n",
      " [-0.03296058]\n",
      " [-0.42487395]\n",
      " [-0.00405719]\n",
      " [ 0.1058018 ]\n",
      " [ 0.20072028]\n",
      " [ 0.31965353]\n",
      " [-0.00375327]\n",
      " [ 0.00663865]\n",
      " [ 0.13756064]\n",
      " [ 0.00054205]\n",
      " [ 0.01305467]\n",
      " [ 0.03275247]\n",
      " [ 0.0081865 ]\n",
      " [-0.04219359]\n",
      " [ 0.18059104]\n",
      " [ 0.01708082]\n",
      " [ 0.00311113]\n",
      " [ 0.01864442]\n",
      " [ 0.20568131]\n",
      " [ 0.01220064]\n",
      " [ 0.05872646]\n",
      " [ 0.0800294 ]] [[0.40308804]]\n"
     ]
    }
   ],
   "source": [
    "w_init = np.random.rand(sanitized_x.shape[1], 1)\n",
    "print(w_init.shape)\n",
    "w, loss = least_squares_GD(sanitized_y, sanitized_x, np.random.rand(sanitized_x.shape[1], 1), 1000, 0.01, verbose=True)\n",
    "print(w, loss)"
   ]
  },
  {
   "cell_type": "code",
   "execution_count": 31,
   "metadata": {},
   "outputs": [
    {
     "name": "stdout",
     "output_type": "stream",
     "text": [
      "[[-0.25516513]\n",
      " [ 0.31391931]\n",
      " [-0.42809016]\n",
      " ...\n",
      " [-0.0349503 ]\n",
      " [ 0.41117694]\n",
      " [-0.33713466]]\n",
      "[[-1.]\n",
      " [ 1.]\n",
      " [-1.]\n",
      " ...\n",
      " [-1.]\n",
      " [ 1.]\n",
      " [-1.]]\n",
      "0.71338\n"
     ]
    }
   ],
   "source": [
    "prediction = sanitized_x @ w\n",
    "print(prediction)\n",
    "\n",
    "prediction[prediction >= 0] = 1\n",
    "prediction[prediction <= 0] = -1\n",
    "\n",
    "print(prediction)\n",
    "\n",
    "print(np.sum(prediction == sanitized_y)/sanitized_y.shape[0])"
   ]
  },
  {
   "cell_type": "code",
   "execution_count": null,
   "metadata": {},
   "outputs": [],
   "source": [
    "print(compute_accuracy(sanitized_y, sanitized_x, ))"
   ]
  },
  {
   "cell_type": "markdown",
   "metadata": {},
   "source": [
    "Reduce dimensions and standardize the columns of X"
   ]
  },
  {
   "cell_type": "code",
   "execution_count": 61,
   "metadata": {},
   "outputs": [],
   "source": [
    "x_train_red = x_train[:, [0, 1, 2, 3, 8, 9, 10, 11, 13, 19, 21, 22, 29]]\n",
    "x_test_red = x_test[:, [0, 1, 2, 3, 8, 9, 10, 11, 13, 19, 21, 22, 29]]\n",
    "x_train_red = x_train[:, [1,3,4,5,6,7,8,9,11,12,13,15,18,23,25,26,28,29]]\n",
    "x_test_red = x_test[:, [1,3,4,5,6,7,8,9,11,12,13,15,18,23,25,26,28,29]]\n",
    "\n",
    "x_train_red_norm = standardize(x_train_red)\n",
    "x_test_red_norm = standardize(x_test_red)"
   ]
  },
  {
   "cell_type": "markdown",
   "metadata": {},
   "source": [
    "Running logistic regression with different values of degrees (polynomial feature expansion), gamma and different initial weights"
   ]
  },
  {
   "cell_type": "code",
   "execution_count": 63,
   "metadata": {},
   "outputs": [
    {
     "name": "stdout",
     "output_type": "stream",
     "text": [
      "Running logistic regression with polynomial feature expansion with degree 1 and gamma 0.001 , with 3 different initial weights.\n",
      "Gradient have norm of 2.27335467333e-12\n",
      "0 :\n",
      "Accuracy on training set 0.35636\n",
      "Accuracy on test set:,  0.35708\n",
      "Gradient have norm of 0.0\n",
      "1 :\n",
      "Accuracy on training set 0.337744\n",
      "Accuracy on test set:,  0.338424\n",
      "Gradient have norm of 0.0\n",
      "2 :\n",
      "Accuracy on training set 0.354424\n",
      "Accuracy on test set:,  0.35568\n",
      "Running logistic regression with polynomial feature expansion with degree 1 and gamma 0.01 , with 3 different initial weights.\n",
      "Gradient have norm of 1.01966234571e-12\n",
      "0 :\n",
      "Accuracy on training set 0.544\n",
      "Accuracy on test set:,  0.545136\n",
      "Gradient have norm of 43.1214248776\n",
      "1 :\n",
      "Accuracy on training set 0.657896\n",
      "Accuracy on test set:,  0.656768\n",
      "Gradient have norm of 0.0\n",
      "2 :\n",
      "Accuracy on training set 0.362208\n",
      "Accuracy on test set:,  0.363216\n",
      "Running logistic regression with polynomial feature expansion with degree 1 and gamma 0.05 , with 3 different initial weights.\n",
      "Gradient have norm of 0.0\n",
      "0 :\n",
      "Accuracy on training set 0.605648\n",
      "Accuracy on test set:,  0.606648\n",
      "Gradient have norm of 0.0\n",
      "1 :\n",
      "Accuracy on training set 0.440336\n",
      "Accuracy on test set:,  0.442824\n",
      "Gradient have norm of 0.0\n",
      "2 :\n",
      "Accuracy on training set 0.544952\n",
      "Accuracy on test set:,  0.54692\n",
      "Running logistic regression with polynomial feature expansion with degree 1 and gamma 0.1 , with 3 different initial weights.\n",
      "Gradient have norm of 0.0\n",
      "0 :\n",
      "Accuracy on training set 0.638088\n",
      "Accuracy on test set:,  0.63448\n",
      "Gradient have norm of 0.0\n",
      "1 :\n",
      "Accuracy on training set 0.640232\n",
      "Accuracy on test set:,  0.640896\n",
      "Gradient have norm of 0.0\n",
      "2 :\n",
      "Accuracy on training set 0.657928\n",
      "Accuracy on test set:,  0.656864\n",
      "Running logistic regression with polynomial feature expansion with degree 1 and gamma 0.5 , with 3 different initial weights.\n",
      "Gradient have norm of 0.0\n",
      "0 :\n",
      "Accuracy on training set 0.345552\n",
      "Accuracy on test set:,  0.34656\n",
      "Gradient have norm of 0.0\n",
      "1 :\n",
      "Accuracy on training set 0.659488\n",
      "Accuracy on test set:,  0.658584\n",
      "Gradient have norm of 22.000390612\n",
      "2 :\n",
      "Accuracy on training set 0.657896\n",
      "Accuracy on test set:,  0.656768\n",
      "Running logistic regression with polynomial feature expansion with degree 2 and gamma 0.001 , with 3 different initial weights.\n",
      "Gradient have norm of 0.0\n",
      "0 :\n",
      "Accuracy on training set 0.342576\n",
      "Accuracy on test set:,  0.343656\n",
      "Gradient have norm of 4.64091217339e-13\n",
      "1 :\n",
      "Accuracy on training set 0.343896\n",
      "Accuracy on test set:,  0.345368\n",
      "Gradient have norm of 0.0\n",
      "2 :\n",
      "Accuracy on training set 0.348032\n",
      "Accuracy on test set:,  0.349056\n",
      "Running logistic regression with polynomial feature expansion with degree 2 and gamma 0.01 , with 3 different initial weights.\n",
      "Gradient have norm of 0.0\n",
      "0 :\n",
      "Accuracy on training set 0.343312\n",
      "Accuracy on test set:,  0.343872\n",
      "Gradient have norm of 0.0\n",
      "1 :\n",
      "Accuracy on training set 0.357016\n",
      "Accuracy on test set:,  0.359072\n",
      "Gradient have norm of 0.0\n",
      "2 :\n",
      "Accuracy on training set 0.339448\n",
      "Accuracy on test set:,  0.340592\n",
      "Running logistic regression with polynomial feature expansion with degree 2 and gamma 0.05 , with 3 different initial weights.\n"
     ]
    },
    {
     "ename": "KeyboardInterrupt",
     "evalue": "",
     "output_type": "error",
     "traceback": [
      "\u001b[0;31m---------------------------------------------------------------------------\u001b[0m",
      "\u001b[0;31mKeyboardInterrupt\u001b[0m                         Traceback (most recent call last)",
      "\u001b[0;32m<ipython-input-63-5c64f70ab996>\u001b[0m in \u001b[0;36m<module>\u001b[0;34m()\u001b[0m\n\u001b[1;32m      9\u001b[0m         \u001b[0;32mfor\u001b[0m \u001b[0mi\u001b[0m \u001b[0;32min\u001b[0m  \u001b[0mrange\u001b[0m\u001b[0;34m(\u001b[0m\u001b[0mnumber_of_w\u001b[0m\u001b[0;34m)\u001b[0m\u001b[0;34m:\u001b[0m\u001b[0;34m\u001b[0m\u001b[0m\n\u001b[1;32m     10\u001b[0m             \u001b[0mw_init\u001b[0m \u001b[0;34m=\u001b[0m \u001b[0mnp\u001b[0m\u001b[0;34m.\u001b[0m\u001b[0mrandom\u001b[0m\u001b[0;34m.\u001b[0m\u001b[0mrand\u001b[0m\u001b[0;34m(\u001b[0m\u001b[0mtx_train\u001b[0m\u001b[0;34m.\u001b[0m\u001b[0mshape\u001b[0m\u001b[0;34m[\u001b[0m\u001b[0;36m1\u001b[0m\u001b[0;34m]\u001b[0m\u001b[0;34m,\u001b[0m \u001b[0;36m1\u001b[0m\u001b[0;34m)\u001b[0m\u001b[0;34m\u001b[0m\u001b[0m\n\u001b[0;32m---> 11\u001b[0;31m             \u001b[0mw\u001b[0m\u001b[0;34m,\u001b[0m \u001b[0mloss\u001b[0m \u001b[0;34m=\u001b[0m \u001b[0mlogistic_regression\u001b[0m\u001b[0;34m(\u001b[0m\u001b[0my_train\u001b[0m\u001b[0;34m,\u001b[0m \u001b[0mtx_train\u001b[0m\u001b[0;34m,\u001b[0m \u001b[0mw_init\u001b[0m\u001b[0;34m,\u001b[0m \u001b[0;36m5000\u001b[0m\u001b[0;34m,\u001b[0m \u001b[0mgamma\u001b[0m\u001b[0;34m)\u001b[0m\u001b[0;34m\u001b[0m\u001b[0m\n\u001b[0m\u001b[1;32m     12\u001b[0m             \u001b[0mprint\u001b[0m\u001b[0;34m(\u001b[0m\u001b[0mi\u001b[0m\u001b[0;34m,\u001b[0m\u001b[0;34m\":\"\u001b[0m\u001b[0;34m)\u001b[0m\u001b[0;34m\u001b[0m\u001b[0m\n\u001b[1;32m     13\u001b[0m             \u001b[0mprint\u001b[0m\u001b[0;34m(\u001b[0m\u001b[0;34m\"Accuracy on training set\"\u001b[0m\u001b[0;34m,\u001b[0m \u001b[0mcompute_accuracy\u001b[0m\u001b[0;34m(\u001b[0m\u001b[0my_train\u001b[0m\u001b[0;34m,\u001b[0m \u001b[0mtx_train\u001b[0m\u001b[0;34m,\u001b[0m \u001b[0mw\u001b[0m\u001b[0;34m)\u001b[0m\u001b[0;34m)\u001b[0m\u001b[0;34m\u001b[0m\u001b[0m\n",
      "\u001b[0;32m~/ml/implementations.py\u001b[0m in \u001b[0;36mlogistic_regression\u001b[0;34m(y, tx, initial_w, max_iters, gamma, verbose)\u001b[0m\n\u001b[1;32m    145\u001b[0m         \u001b[0mw\u001b[0m \u001b[0;34m=\u001b[0m \u001b[0mw\u001b[0m \u001b[0;34m-\u001b[0m \u001b[0mgamma\u001b[0m \u001b[0;34m*\u001b[0m \u001b[0mgradient\u001b[0m\u001b[0;34m\u001b[0m\u001b[0m\n\u001b[1;32m    146\u001b[0m \u001b[0;34m\u001b[0m\u001b[0m\n\u001b[0;32m--> 147\u001b[0;31m         \u001b[0mnew_loss\u001b[0m \u001b[0;34m=\u001b[0m \u001b[0mcompute_loss_logistic\u001b[0m\u001b[0;34m(\u001b[0m\u001b[0my\u001b[0m\u001b[0;34m,\u001b[0m \u001b[0mtx\u001b[0m\u001b[0;34m,\u001b[0m \u001b[0mw\u001b[0m\u001b[0;34m)\u001b[0m\u001b[0;34m\u001b[0m\u001b[0m\n\u001b[0m\u001b[1;32m    148\u001b[0m \u001b[0;34m\u001b[0m\u001b[0m\n\u001b[1;32m    149\u001b[0m         \u001b[0;32mif\u001b[0m \u001b[0mnp\u001b[0m\u001b[0;34m.\u001b[0m\u001b[0mabs\u001b[0m\u001b[0;34m(\u001b[0m\u001b[0mloss\u001b[0m \u001b[0;34m-\u001b[0m \u001b[0mnew_loss\u001b[0m\u001b[0;34m)\u001b[0m \u001b[0;34m<\u001b[0m \u001b[0mthreshold\u001b[0m\u001b[0;34m:\u001b[0m\u001b[0;34m\u001b[0m\u001b[0m\n",
      "\u001b[0;32m~/ml/helpers.py\u001b[0m in \u001b[0;36mcompute_loss_logistic\u001b[0;34m(y, tx, w)\u001b[0m\n\u001b[1;32m    201\u001b[0m     \u001b[0mloss\u001b[0m\u001b[0;34m:\u001b[0m \u001b[0mThe\u001b[0m \u001b[0mloss\u001b[0m \u001b[0mby\u001b[0m \u001b[0mnegative\u001b[0m \u001b[0mlog\u001b[0m \u001b[0mlikelihood\u001b[0m\u001b[0;34m\u001b[0m\u001b[0m\n\u001b[1;32m    202\u001b[0m     \"\"\"\n\u001b[0;32m--> 203\u001b[0;31m     \u001b[0mtxw\u001b[0m \u001b[0;34m=\u001b[0m \u001b[0mtx\u001b[0m \u001b[0;34m@\u001b[0m \u001b[0mw\u001b[0m\u001b[0;34m\u001b[0m\u001b[0m\n\u001b[0m\u001b[1;32m    204\u001b[0m     \u001b[0mtxw\u001b[0m\u001b[0;34m[\u001b[0m\u001b[0mtxw\u001b[0m\u001b[0;34m>\u001b[0m\u001b[0;36m50\u001b[0m\u001b[0;34m]\u001b[0m \u001b[0;34m=\u001b[0m \u001b[0;36m50\u001b[0m\u001b[0;34m\u001b[0m\u001b[0m\n\u001b[1;32m    205\u001b[0m     \u001b[0ms\u001b[0m \u001b[0;34m=\u001b[0m \u001b[0mnp\u001b[0m\u001b[0;34m.\u001b[0m\u001b[0msum\u001b[0m\u001b[0;34m(\u001b[0m\u001b[0mnp\u001b[0m\u001b[0;34m.\u001b[0m\u001b[0mlog\u001b[0m\u001b[0;34m(\u001b[0m\u001b[0;36m1\u001b[0m \u001b[0;34m+\u001b[0m \u001b[0mnp\u001b[0m\u001b[0;34m.\u001b[0m\u001b[0mexp\u001b[0m\u001b[0;34m(\u001b[0m\u001b[0mtxw\u001b[0m\u001b[0;34m)\u001b[0m\u001b[0;34m)\u001b[0m\u001b[0;34m)\u001b[0m\u001b[0;34m\u001b[0m\u001b[0m\n",
      "\u001b[0;31mKeyboardInterrupt\u001b[0m: "
     ]
    }
   ],
   "source": [
    "number_of_w = 3\n",
    "\n",
    "for degree in range(1, 5):\n",
    "    tx_train = build_poly_cross_2(x_train_red_norm)\n",
    "    tx_test = build_poly_cross_2(x_test_red_norm)\n",
    "    for gamma in np.array([0.001, 0.01, 0.05, 0.1, 0.5]):\n",
    "        print(\"Running logistic regression with polynomial feature expansion with degree\", degree, \n",
    "                 \"and gamma\", gamma,\", with\", number_of_w, \"different initial weights.\")\n",
    "        for i in  range(number_of_w):\n",
    "            w_init = np.random.rand(tx_train.shape[1], 1)\n",
    "            w, loss = logistic_regression(y_train, tx_train, w_init, 5000, gamma)\n",
    "            print(i,\":\")\n",
    "            print(\"Accuracy on training set\", compute_accuracy(y_train, tx_train, w))\n",
    "            print(\"Accuracy on test set:, \", compute_accuracy(y_test, tx_test, w))"
   ]
  },
  {
   "cell_type": "markdown",
   "metadata": {},
   "source": [
    "## Generate predictions and save ouput in csv format for submission:\n"
   ]
  },
  {
   "cell_type": "code",
   "execution_count": 10,
   "metadata": {
    "collapsed": false,
    "jupyter": {
     "outputs_hidden": false
    }
   },
   "outputs": [],
   "source": [
    "DATA_TEST_PATH = '' # TODO: download train data and supply path here \n",
    "_, tX_test, ids_test = load_csv_data(DATA_TEST_PATH)"
   ]
  },
  {
   "cell_type": "code",
   "execution_count": 31,
   "metadata": {
    "collapsed": false,
    "jupyter": {
     "outputs_hidden": false
    }
   },
   "outputs": [],
   "source": [
    "OUTPUT_PATH = '' # TODO: fill in desired name of output file for submission\n",
    "y_pred = predict_labels(weights, tX_test)\n",
    "create_csv_submission(ids_test, y_pred, OUTPUT_PATH)"
   ]
  },
  {
   "cell_type": "code",
   "execution_count": 346,
   "metadata": {},
   "outputs": [
    {
     "data": {
      "text/plain": [
       "array([1., 1., 0., 0., 1., 0., 0., 0., 1., 1., 1., 1., 1., 1., 0., 1., 0.,\n",
       "       1., 0., 1., 0., 0., 0., 1., 0., 0., 0., 0., 0., 0.])"
      ]
     },
     "execution_count": 346,
     "metadata": {},
     "output_type": "execute_result"
    }
   ],
   "source": [
    "a = np.random.rand(30)\n",
    "np.around(a)"
   ]
  },
  {
   "cell_type": "code",
   "execution_count": 347,
   "metadata": {},
   "outputs": [
    {
     "data": {
      "text/plain": [
       "array([0.98948792, 0.67934654, 0.34673991, 0.48885077, 0.5348651 ,\n",
       "       0.08436905, 0.02071519, 0.18776387, 0.52188862, 0.85832073,\n",
       "       0.50843456, 0.60499752, 0.84728409, 0.93295583, 0.00486189,\n",
       "       0.66121463, 0.3157777 , 0.6534353 , 0.12888288, 0.54033186,\n",
       "       0.44024959, 0.37952039, 0.0833081 , 0.55721317, 0.36309742,\n",
       "       0.2762448 , 0.46041519, 0.00914704, 0.35695435, 0.45490402])"
      ]
     },
     "execution_count": 347,
     "metadata": {},
     "output_type": "execute_result"
    }
   ],
   "source": [
    "a"
   ]
  },
  {
   "cell_type": "code",
   "execution_count": null,
   "metadata": {},
   "outputs": [],
   "source": []
  }
 ],
 "metadata": {
  "anaconda-cloud": {},
  "kernelspec": {
   "display_name": "Python 3",
   "language": "python",
   "name": "python3"
  },
  "language_info": {
   "codemirror_mode": {
    "name": "ipython",
    "version": 3
   },
   "file_extension": ".py",
   "mimetype": "text/x-python",
   "name": "python",
   "nbconvert_exporter": "python",
   "pygments_lexer": "ipython3",
   "version": "3.7.4"
  }
 },
 "nbformat": 4,
 "nbformat_minor": 4
}
