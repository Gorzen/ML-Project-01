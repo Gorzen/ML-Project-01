{
 "cells": [
  {
   "cell_type": "code",
   "execution_count": 2,
   "metadata": {},
   "outputs": [],
   "source": [
    "# Useful starting lines\n",
    "%matplotlib inline\n",
    "import numpy as np\n",
    "import matplotlib.pyplot as plt\n",
    "from proj1_helpers import *\n",
    "from helpers import *\n",
    "from implementations import *\n",
    "%load_ext autoreload\n",
    "%autoreload 2"
   ]
  },
  {
   "cell_type": "markdown",
   "metadata": {},
   "source": [
    "## Load the training data into feature matrix, class labels, and event ids:"
   ]
  },
  {
   "cell_type": "code",
   "execution_count": 12,
   "metadata": {
    "collapsed": false,
    "jupyter": {
     "outputs_hidden": false
    }
   },
   "outputs": [],
   "source": [
    "DATA_TRAIN_PATH = 'data/train.csv' \n",
    "y, x, ids = load_csv_data(DATA_TRAIN_PATH)"
   ]
  },
  {
   "cell_type": "code",
   "execution_count": 13,
   "metadata": {},
   "outputs": [],
   "source": [
    "sanitized_y = y.reshape((y.shape[0], 1))"
   ]
  },
  {
   "cell_type": "code",
   "execution_count": 14,
   "metadata": {},
   "outputs": [
    {
     "name": "stdout",
     "output_type": "stream",
     "text": [
      "1580052\n"
     ]
    },
    {
     "data": {
      "text/plain": [
       "array([-0.62125844,  0.        ,  0.        ,  0.        ,  0.        ,\n",
       "       -0.21926102, -0.53665123,  0.        ,  0.        ,  0.        ,\n",
       "        0.        , -0.29968666,  0.        ,  0.        ,  0.        ,\n",
       "        0.        ,  0.        ,  0.        ,  0.        ,  0.        ,\n",
       "        0.        ,  0.        ,  0.        , -0.01870612,  0.        ,\n",
       "        0.        ,  0.        ,  1.63325174,  0.        , -0.14063324,\n",
       "        0.        , -0.19070156,  1.21453303, -0.32085355,  0.        ,\n",
       "        0.        ,  0.        ,  0.        , -0.24220062, -0.51448357,\n",
       "        0.        ,  0.        ,  0.27107761,  0.        ,  0.        ,\n",
       "       -0.73823707,  0.30071075,  0.        ,  0.        ,  0.        ])"
      ]
     },
     "execution_count": 14,
     "metadata": {},
     "output_type": "execute_result"
    }
   ],
   "source": [
    "sanitized_x = x.copy()\n",
    "\n",
    "na_values_x = sanitized_x == -999\n",
    "\n",
    "print(np.sum(na_values_x))\n",
    "\n",
    "for i, feature in enumerate(sanitized_x.T):\n",
    "    na_values = feature == -999\n",
    "    known_values = ~na_values\n",
    "    \n",
    "    mean = np.mean(feature[known_values])\n",
    "    std = np.std(feature[known_values])\n",
    "    \n",
    "    sanitized_x[:, i] = sanitized_x[:, i] - mean\n",
    "    sanitized_x[:, i] = sanitized_x[:, i] / std\n",
    "    \n",
    "    \n",
    "sanitized_x[na_values_x] = 0\n",
    "sanitized_x[:,5][:50]"
   ]
  },
  {
   "cell_type": "code",
   "execution_count": 25,
   "metadata": {},
   "outputs": [
    {
     "name": "stdout",
     "output_type": "stream",
     "text": [
      "(30, 1)\n",
      "Iteration : 0 with loss [[10.47290029]] and gradient: [[ 1.76726282]\n",
      " [-0.29923856]\n",
      " [ 1.62254188]\n",
      " [ 3.41462974]\n",
      " [-0.02015559]\n",
      " [ 0.37110268]\n",
      " [-0.05416912]\n",
      " [-0.97019522]\n",
      " [ 2.26926176]\n",
      " [ 3.82400243]\n",
      " [ 0.11302892]\n",
      " [ 2.08562892]\n",
      " [ 0.09305065]\n",
      " [ 2.45555473]\n",
      " [ 0.29082197]\n",
      " [-0.01372632]\n",
      " [ 1.84004905]\n",
      " [ 0.49211275]\n",
      " [ 0.49752027]\n",
      " [ 2.45341829]\n",
      " [ 0.61857722]\n",
      " [ 3.69032119]\n",
      " [ 2.73002668]\n",
      " [ 2.00235552]\n",
      " [ 0.17163147]\n",
      " [ 0.01814922]\n",
      " [ 0.94874223]\n",
      " [ 0.03937312]\n",
      " [ 0.14073496]\n",
      " [ 3.53847364]]\n",
      "Iteration : 500 with loss [[0.43524241]] and gradient: [[ 0.01626948]\n",
      " [ 0.01113735]\n",
      " [ 0.01517624]\n",
      " [ 0.01449179]\n",
      " [ 0.00495708]\n",
      " [-0.00133732]\n",
      " [ 0.02299805]\n",
      " [-0.02767768]\n",
      " [ 0.00788255]\n",
      " [-0.00813798]\n",
      " [ 0.0250116 ]\n",
      " [ 0.01870171]\n",
      " [ 0.03190589]\n",
      " [ 0.00428636]\n",
      " [-0.00992155]\n",
      " [ 0.01352211]\n",
      " [-0.03549615]\n",
      " [ 0.00817773]\n",
      " [ 0.01821398]\n",
      " [-0.01368888]\n",
      " [ 0.01381836]\n",
      " [ 0.00132249]\n",
      " [-0.01832004]\n",
      " [-0.01479997]\n",
      " [ 0.00517461]\n",
      " [ 0.03422558]\n",
      " [ 0.05160924]\n",
      " [ 0.00811202]\n",
      " [ 0.05840591]\n",
      " [-0.00259613]]\n",
      "[[ 0.00443928]\n",
      " [-0.22420039]\n",
      " [-0.15000768]\n",
      " [ 0.16937464]\n",
      " [ 0.32271873]\n",
      " [ 0.07281459]\n",
      " [ 0.25770315]\n",
      " [ 0.20758746]\n",
      " [-0.03296058]\n",
      " [-0.42487395]\n",
      " [-0.00405719]\n",
      " [ 0.1058018 ]\n",
      " [ 0.20072028]\n",
      " [ 0.31965353]\n",
      " [-0.00375327]\n",
      " [ 0.00663865]\n",
      " [ 0.13756064]\n",
      " [ 0.00054205]\n",
      " [ 0.01305467]\n",
      " [ 0.03275247]\n",
      " [ 0.0081865 ]\n",
      " [-0.04219359]\n",
      " [ 0.18059104]\n",
      " [ 0.01708082]\n",
      " [ 0.00311113]\n",
      " [ 0.01864442]\n",
      " [ 0.20568131]\n",
      " [ 0.01220064]\n",
      " [ 0.05872646]\n",
      " [ 0.0800294 ]] [[0.40308804]]\n"
     ]
    }
   ],
   "source": [
    "w_init = np.random.rand(sanitized_x.shape[1], 1)\n",
    "print(w_init.shape)\n",
    "w, loss = least_squares_GD(sanitized_y, sanitized_x, np.random.rand(sanitized_x.shape[1], 1), 1000, 0.01, verbose=True)\n",
    "print(w, loss)"
   ]
  },
  {
   "cell_type": "code",
   "execution_count": 31,
   "metadata": {},
   "outputs": [
    {
     "name": "stdout",
     "output_type": "stream",
     "text": [
      "[[-0.25516513]\n",
      " [ 0.31391931]\n",
      " [-0.42809016]\n",
      " ...\n",
      " [-0.0349503 ]\n",
      " [ 0.41117694]\n",
      " [-0.33713466]]\n",
      "[[-1.]\n",
      " [ 1.]\n",
      " [-1.]\n",
      " ...\n",
      " [-1.]\n",
      " [ 1.]\n",
      " [-1.]]\n",
      "0.71338\n"
     ]
    }
   ],
   "source": [
    "prediction = sanitized_x @ w\n",
    "print(prediction)\n",
    "\n",
    "prediction[prediction >= 0] = 1\n",
    "prediction[prediction <= 0] = -1\n",
    "\n",
    "print(prediction)\n",
    "\n",
    "print(np.sum(prediction == sanitized_y)/sanitized_y.shape[0])"
   ]
  },
  {
   "cell_type": "code",
   "execution_count": null,
   "metadata": {},
   "outputs": [],
   "source": [
    "print(compute_accuracy(sanitized_y, sanitized_x, ))"
   ]
  },
  {
   "cell_type": "markdown",
   "metadata": {},
   "source": [
    "Reduce dimensions and standardize the columns of X"
   ]
  },
  {
   "cell_type": "markdown",
   "metadata": {},
   "source": [
    "Running logistic regression with different values of degrees (polynomial feature expansion), gamma and different initial weights"
   ]
  },
  {
   "cell_type": "code",
   "execution_count": null,
   "metadata": {},
   "outputs": [
    {
     "name": "stdout",
     "output_type": "stream",
     "text": [
      "Running logistic regression with polynomial feature expansion with degree 2 and gamma 0.01 , with 1 different initial weights.\n",
      "Iteration : 0 with loss [[ 2713717.30522605]] and gradient norm: 67.7589543318554\n",
      "Iteration : 250 with loss [[-1621659.36203669]] and gradient norm: 9.12581692435102\n",
      "Iteration : 500 with loss [[-3624530.2944112]] and gradient norm: 6.604066146737745\n",
      "Iteration : 750 with loss [[-5345756.67119609]] and gradient norm: 9.964452603941151\n",
      "Iteration : 1000 with loss [[-6706442.71846189]] and gradient norm: 6.139068315040311\n",
      "Iteration : 1250 with loss [[-7969909.92452944]] and gradient norm: 6.011465104854264\n",
      "Iteration : 1500 with loss [[-9416805.89826892]] and gradient norm: 6.590781591012815\n",
      "Iteration : 1750 with loss [[-11177373.8883449]] and gradient norm: 5.762834476880707\n",
      "Iteration : 2000 with loss [[-12766025.33798824]] and gradient norm: 5.236371348028187\n",
      "Iteration : 2250 with loss [[-14296245.83515934]] and gradient norm: 5.566051840466497\n",
      "Iteration : 2500 with loss [[-17110293.74778048]] and gradient norm: 4.250090986678999\n",
      "Iteration : 2750 with loss [[-18505188.68693212]] and gradient norm: 6.779022818936918\n",
      "Iteration : 3000 with loss [[-19806901.66034911]] and gradient norm: 6.367819366176382\n",
      "Iteration : 3250 with loss [[-21318111.59671071]] and gradient norm: 51.09229390220323\n",
      "Iteration : 3500 with loss [[-22848583.77240335]] and gradient norm: 4.925036244225912\n",
      "Iteration : 3750 with loss [[-24246964.49810391]] and gradient norm: 135.4690494027984\n",
      "Iteration : 4000 with loss [[-26278233.42003775]] and gradient norm: 4.497713135466554\n",
      "Iteration : 4250 with loss [[-27658402.89444962]] and gradient norm: 5.833904237003271\n",
      "Iteration : 4500 with loss [[-29257360.38096558]] and gradient norm: 9.998364101142416\n",
      "Iteration : 4750 with loss [[-31036640.97521511]] and gradient norm: 5.303916057173225\n",
      "0 :\n",
      "Accuracy on training set 0.66022\n",
      "Accuracy on test set:,  0.65824\n",
      "Running logistic regression with polynomial feature expansion with degree 2 and gamma 0.05 , with 1 different initial weights.\n",
      "Iteration : 0 with loss [[ 2865309.97835327]] and gradient norm: 1.1820005162863474e-06\n",
      "Iteration : 250 with loss [[-7837741.82392161]] and gradient norm: 6.397849308428773\n",
      "Iteration : 500 with loss [[-15615768.70690755]] and gradient norm: 6.450914346707713\n",
      "Iteration : 750 with loss [[-26144344.85937889]] and gradient norm: 27.61187671629279\n",
      "Iteration : 1000 with loss [[-32998436.69263412]] and gradient norm: 7.7031739950820395\n",
      "Iteration : 1250 with loss [[-41692347.11878835]] and gradient norm: 7.529070136114567\n",
      "Iteration : 1500 with loss [[-50848337.98575599]] and gradient norm: 4.652906611467518\n",
      "Iteration : 1750 with loss [[-59984541.81516682]] and gradient norm: 6.56499281131238\n",
      "Iteration : 2000 with loss [[-70275927.8674847]] and gradient norm: 6.33600335198148\n",
      "Iteration : 2250 with loss [[-79736740.36664206]] and gradient norm: 5.971137076020292\n",
      "Iteration : 2500 with loss [[-88187169.11536689]] and gradient norm: 6.7287420359536245\n",
      "Iteration : 2750 with loss [[-99802466.89052114]] and gradient norm: 17.182954317196234\n",
      "Iteration : 3000 with loss [[ -1.11784739e+08]] and gradient norm: 4.724225222176331\n",
      "Iteration : 3250 with loss [[ -1.16538054e+08]] and gradient norm: 5.356684484003123\n",
      "Iteration : 3500 with loss [[ -1.29379236e+08]] and gradient norm: 9.438599055085671\n",
      "Iteration : 3750 with loss [[ -1.39253142e+08]] and gradient norm: 5.437725534577999\n",
      "Iteration : 4000 with loss [[ -1.47404044e+08]] and gradient norm: 6.485101142910327\n",
      "Iteration : 4250 with loss [[ -1.58728222e+08]] and gradient norm: 6.359899513418016\n",
      "Iteration : 4500 with loss [[ -1.66550305e+08]] and gradient norm: 5.860476656255051\n",
      "Iteration : 4750 with loss [[ -1.78301646e+08]] and gradient norm: 5.906318318943123\n",
      "0 :\n",
      "Accuracy on training set 0.659335\n",
      "Accuracy on test set:,  0.65692\n",
      "Running logistic regression with polynomial feature expansion with degree 2 and gamma 0.1 , with 1 different initial weights.\n",
      "Iteration : 0 with loss [[ 2961501.52263673]] and gradient norm: 0.12445255038820721\n",
      "Iteration : 250 with loss [[-15052564.90071767]] and gradient norm: 2.6834488286046368e-06\n",
      "Iteration : 500 with loss [[-30749283.94271063]] and gradient norm: 5.561979645002616\n",
      "Iteration : 750 with loss [[-56096471.02479912]] and gradient norm: 7.188512306371752\n",
      "Iteration : 1000 with loss [[-74243684.22079873]] and gradient norm: 4.963934422655567\n",
      "Iteration : 1250 with loss [[-91704368.68488981]] and gradient norm: 6.272296703179901\n",
      "Iteration : 1500 with loss [[ -1.10026312e+08]] and gradient norm: 5.5333018516550245\n",
      "Iteration : 1750 with loss [[ -1.27434080e+08]] and gradient norm: 7.142855426424023\n",
      "Iteration : 2000 with loss [[ -1.44292139e+08]] and gradient norm: 5.2962187850799785\n",
      "Iteration : 2250 with loss [[ -1.63087509e+08]] and gradient norm: 14.602029926250944\n",
      "Iteration : 2500 with loss [[ -1.83712566e+08]] and gradient norm: 7.15393454839378\n",
      "Iteration : 2750 with loss [[ -1.97738311e+08]] and gradient norm: 8.96152569908843\n",
      "Iteration : 3000 with loss [[ -2.16246471e+08]] and gradient norm: 5.385319576416501\n",
      "Iteration : 3250 with loss [[ -2.30319385e+08]] and gradient norm: 7.523403868008\n",
      "Iteration : 3500 with loss [[ -2.43722989e+08]] and gradient norm: 8.834612011610995\n",
      "Iteration : 3750 with loss [[ -2.65744487e+08]] and gradient norm: 5.187677258078007\n",
      "Iteration : 4000 with loss [[ -2.90320675e+08]] and gradient norm: 4.319897641214347\n",
      "Iteration : 4250 with loss [[ -3.06595855e+08]] and gradient norm: 8.929671918104741\n",
      "Iteration : 4500 with loss [[ -3.25861475e+08]] and gradient norm: 9.947767643400342\n",
      "Iteration : 4750 with loss [[ -3.41728834e+08]] and gradient norm: 5.053732032760134\n",
      "0 :\n",
      "Accuracy on training set 0.659075\n",
      "Accuracy on test set:,  0.6567\n",
      "Running logistic regression with polynomial feature expansion with degree 2 and gamma 0.5 , with 1 different initial weights.\n",
      "Iteration : 0 with loss [[ 2594895.32437813]] and gradient norm: 1.2291601349009105e-14\n",
      "Iteration : 250 with loss [[-55874636.01952942]] and gradient norm: 23.832256160627132\n",
      "Iteration : 500 with loss [[ -1.36257524e+08]] and gradient norm: 4.349879675235019\n",
      "Iteration : 750 with loss [[ -1.93159383e+08]] and gradient norm: 16.849807799620454\n",
      "Iteration : 1000 with loss [[ -2.65575296e+08]] and gradient norm: 5.254660883302455\n",
      "Iteration : 1250 with loss [[ -3.20441471e+08]] and gradient norm: 7.2046174658739615\n",
      "Iteration : 1500 with loss [[ -3.99446248e+08]] and gradient norm: 6.903188316795865\n",
      "Iteration : 1750 with loss [[ -4.61425561e+08]] and gradient norm: 11.159980070096317\n",
      "Iteration : 2000 with loss [[ -5.36351913e+08]] and gradient norm: 6.765041908491999\n",
      "Iteration : 2250 with loss [[ -5.87102128e+08]] and gradient norm: 6.751800070841354\n",
      "Iteration : 2500 with loss [[ -6.60260233e+08]] and gradient norm: 6.191714282046313\n",
      "Iteration : 2750 with loss [[ -7.35817327e+08]] and gradient norm: 8.2858740540683\n",
      "Iteration : 3000 with loss [[ -8.10159817e+08]] and gradient norm: 9.544916770596782\n",
      "Iteration : 3250 with loss [[ -9.08758625e+08]] and gradient norm: 6.1032169321544885\n",
      "Iteration : 3500 with loss [[ -9.84100089e+08]] and gradient norm: 14.445884487253961\n",
      "Iteration : 3750 with loss [[ -1.06032683e+09]] and gradient norm: 8.698817018410486\n",
      "Iteration : 4000 with loss [[ -1.14838239e+09]] and gradient norm: 5.47559076734483\n",
      "Iteration : 4250 with loss [[ -1.21971586e+09]] and gradient norm: 5.64217347424676\n",
      "Iteration : 4500 with loss [[ -1.33814864e+09]] and gradient norm: 6.567139164157714\n",
      "Iteration : 4750 with loss [[ -1.42775624e+09]] and gradient norm: 4.308532472926543\n",
      "0 :\n",
      "Accuracy on training set 0.659705\n",
      "Accuracy on test set:,  0.65746\n",
      "Running logistic regression with polynomial feature expansion with degree 3 and gamma 0.01 , with 1 different initial weights.\n",
      "Iteration : 0 with loss [[ 2615421.98818526]] and gradient norm: 36.50817199734766\n",
      "Iteration : 250 with loss [[-12281411.02465571]] and gradient norm: 11.128685250143397\n",
      "Iteration : 500 with loss [[-25832370.48464199]] and gradient norm: 7.284436833984699\n",
      "Iteration : 750 with loss [[-31624121.90404326]] and gradient norm: 7.2130173220081995\n",
      "Iteration : 1000 with loss [[-39832222.56964862]] and gradient norm: 11.23909204391586\n",
      "Iteration : 1250 with loss [[-63661300.79922874]] and gradient norm: 6.921441035340967\n",
      "Iteration : 1500 with loss [[-74889730.81040624]] and gradient norm: 9.47480591122038\n",
      "Iteration : 1750 with loss [[-95437543.27332985]] and gradient norm: 14.115111982453707\n",
      "Iteration : 2000 with loss [[-99257618.1491009]] and gradient norm: 5.135366252118008\n",
      "Iteration : 2250 with loss [[-84674940.17093983]] and gradient norm: 11.738324239059613\n",
      "Iteration : 2500 with loss [[-94144243.47556628]] and gradient norm: 6.623767823758725\n",
      "Iteration : 2750 with loss [[-94604022.66829222]] and gradient norm: 7.116216692572856\n",
      "Iteration : 3000 with loss [[-96123647.62192103]] and gradient norm: 5.464488909019215\n",
      "Iteration : 3250 with loss [[ -1.04755625e+08]] and gradient norm: 8.618093967877753\n",
      "Iteration : 3500 with loss [[ -1.09594280e+08]] and gradient norm: 8.91156169188706\n",
      "Iteration : 3750 with loss [[ -1.13574973e+08]] and gradient norm: 4.982773705359646e-11\n",
      "Iteration : 4000 with loss [[ -1.18658606e+08]] and gradient norm: 7.129083350702367\n",
      "Iteration : 4250 with loss [[ -1.41688469e+08]] and gradient norm: 12.600467519730255\n",
      "Iteration : 4500 with loss [[ -1.50608312e+08]] and gradient norm: 8.495971752114231\n",
      "Iteration : 4750 with loss [[ -1.81320572e+08]] and gradient norm: 6.219783069796886\n",
      "0 :\n",
      "Accuracy on training set 0.645195\n",
      "Accuracy on test set:,  0.6436\n",
      "Running logistic regression with polynomial feature expansion with degree 3 and gamma 0.05 , with 1 different initial weights.\n",
      "Iteration : 0 with loss [[ 2578535.1027966]] and gradient norm: 8.62249108686947\n",
      "Iteration : 250 with loss [[-35588491.62441606]] and gradient norm: 12.526642635193934\n",
      "Iteration : 500 with loss [[ -2.17611852e+08]] and gradient norm: 5.092753246491742\n",
      "Iteration : 750 with loss [[ -2.92194351e+08]] and gradient norm: 8.614582167215557\n",
      "Iteration : 1000 with loss [[ -4.41941271e+08]] and gradient norm: 6.267723090249885\n",
      "Iteration : 1250 with loss [[ -4.52455064e+08]] and gradient norm: 6.451273441819765\n",
      "Iteration : 1500 with loss [[ -4.97490469e+08]] and gradient norm: 6.003242197923022\n",
      "Iteration : 1750 with loss [[ -5.32505620e+08]] and gradient norm: 14.162826240348249\n",
      "Iteration : 2000 with loss [[ -5.58056553e+08]] and gradient norm: 15.001207328032274\n",
      "Iteration : 2250 with loss [[ -6.45360823e+08]] and gradient norm: 7.225675070191919\n",
      "Iteration : 2500 with loss [[ -7.59086213e+08]] and gradient norm: 16.80150862198543\n",
      "Iteration : 2750 with loss [[ -7.09715771e+08]] and gradient norm: 9.348511565346605\n",
      "Iteration : 3000 with loss [[ -8.81550506e+08]] and gradient norm: 7.522506642303994\n",
      "Iteration : 3250 with loss [[ -8.80922445e+08]] and gradient norm: 5.970386786817077\n",
      "Iteration : 3500 with loss [[ -8.37931436e+08]] and gradient norm: 61.54567523184255\n",
      "Iteration : 3750 with loss [[ -8.35925058e+08]] and gradient norm: 14.661457549481812\n",
      "Iteration : 4000 with loss [[ -9.26548943e+08]] and gradient norm: 9.52547939567168\n",
      "Iteration : 4250 with loss [[ -8.45155327e+08]] and gradient norm: 9.697941503409304\n",
      "Iteration : 4500 with loss [[ -8.71218350e+08]] and gradient norm: 30.18964774661719\n",
      "Iteration : 4750 with loss [[ -9.47158609e+08]] and gradient norm: 9.397221791639353\n",
      "0 :\n",
      "Accuracy on training set 0.666595\n",
      "Accuracy on test set:,  0.6646\n",
      "Running logistic regression with polynomial feature expansion with degree 3 and gamma 0.1 , with 1 different initial weights.\n",
      "Iteration : 0 with loss [[ 1936359.69810732]] and gradient norm: 1.6763664545706253e-05\n",
      "Iteration : 250 with loss [[ -1.97097963e+08]] and gradient norm: 8.583657457370348\n",
      "Iteration : 500 with loss [[ -4.12418149e+08]] and gradient norm: 6.87844448859899\n",
      "Iteration : 750 with loss [[ -5.70615176e+08]] and gradient norm: 6.324584390414498\n",
      "Iteration : 1000 with loss [[ -6.06615008e+08]] and gradient norm: 22.01389760197359\n",
      "Iteration : 1250 with loss [[ -7.02680782e+08]] and gradient norm: 27.9195327521273\n",
      "Iteration : 1500 with loss [[ -1.64017905e+09]] and gradient norm: 0.0\n",
      "Iteration : 1750 with loss [[ -1.70388123e+09]] and gradient norm: 26.873785314954716\n",
      "Iteration : 2000 with loss [[ -1.75974073e+09]] and gradient norm: 16.880822057806032\n",
      "Iteration : 2250 with loss [[ -1.96898819e+09]] and gradient norm: 13.098500124683518\n",
      "Iteration : 2500 with loss [[ -2.06768277e+09]] and gradient norm: 5.683752505292706\n",
      "Iteration : 2750 with loss [[ -1.99857022e+09]] and gradient norm: 8.618954645874501\n",
      "Iteration : 3000 with loss [[ -2.14399052e+09]] and gradient norm: 5.055084278270861\n",
      "Iteration : 3250 with loss [[ -2.48811437e+09]] and gradient norm: 132.06710649812575\n",
      "Iteration : 3500 with loss [[ -2.49762638e+09]] and gradient norm: 8.748135420896222\n",
      "Iteration : 3750 with loss [[ -2.51261741e+09]] and gradient norm: 6.8698108562750635\n",
      "Iteration : 4000 with loss [[ -2.48043909e+09]] and gradient norm: 0.0\n",
      "Iteration : 4250 with loss [[ -2.61051961e+09]] and gradient norm: 110.90096640922235\n",
      "Iteration : 4500 with loss [[ -2.73631262e+09]] and gradient norm: 9.532110837230135\n",
      "Iteration : 4750 with loss [[ -2.75115144e+09]] and gradient norm: 9.86896787711725\n",
      "0 :\n",
      "Accuracy on training set 0.652295\n",
      "Accuracy on test set:,  0.65074\n",
      "Running logistic regression with polynomial feature expansion with degree 3 and gamma 0.5 , with 1 different initial weights.\n",
      "Iteration : 0 with loss [[ 3445640.86482577]] and gradient norm: 9.025121271814669e-06\n"
     ]
    }
   ],
   "source": [
    "N = sanitized_x.shape[0]\n",
    "inds = np.random.choice(range(N), 100000, replace=False)\n",
    "sanitized_x_sub = sanitized_x[inds, :]\n",
    "sanitized_x_sub = sanitized_x_sub[:, [0,1,2,3,7,8,9,10,11,13,14,17,19,21,22,29]]\n",
    "sanitized_y_sub = sanitized_y[inds]\n",
    "x_train, x_test, y_train, y_test = split_data(sanitized_x, sanitized_y, 0.8)\n",
    "number_of_w = 1\n",
    "\n",
    "for degree in range(2, 5):\n",
    "    tx_train = build_poly(x_train, degree)\n",
    "    tx_test = build_poly(x_test, degree)\n",
    "    for gamma in np.array([0.01, 0.05, 0.1, 0.5]):\n",
    "        print(\"Running logistic regression with polynomial feature expansion with degree\", degree, \n",
    "                 \"and gamma\", gamma,\", with\", number_of_w, \"different initial weights.\")\n",
    "        for i in  range(number_of_w):\n",
    "            w_init = np.random.rand(tx_train.shape[1], 1)\n",
    "            w, loss = logistic_regression(y_train, tx_train, w_init, 5000, gamma, verbose=True)\n",
    "            print(i,\":\")\n",
    "            print(\"Accuracy on training set\", compute_accuracy(y_train, tx_train, w))\n",
    "            print(\"Accuracy on test set:, \", compute_accuracy(y_test, tx_test, w))"
   ]
  },
  {
   "cell_type": "markdown",
   "metadata": {},
   "source": [
    "## Generate predictions and save ouput in csv format for submission:\n"
   ]
  },
  {
   "cell_type": "code",
   "execution_count": 10,
   "metadata": {
    "collapsed": false,
    "jupyter": {
     "outputs_hidden": false
    }
   },
   "outputs": [],
   "source": [
    "DATA_TEST_PATH = '' # TODO: download train data and supply path here \n",
    "_, tX_test, ids_test = load_csv_data(DATA_TEST_PATH)"
   ]
  },
  {
   "cell_type": "code",
   "execution_count": 31,
   "metadata": {
    "collapsed": false,
    "jupyter": {
     "outputs_hidden": false
    }
   },
   "outputs": [],
   "source": [
    "OUTPUT_PATH = '' # TODO: fill in desired name of output file for submission\n",
    "y_pred = predict_labels(weights, tX_test)\n",
    "create_csv_submission(ids_test, y_pred, OUTPUT_PATH)"
   ]
  },
  {
   "cell_type": "code",
   "execution_count": 346,
   "metadata": {},
   "outputs": [
    {
     "data": {
      "text/plain": [
       "array([1., 1., 0., 0., 1., 0., 0., 0., 1., 1., 1., 1., 1., 1., 0., 1., 0.,\n",
       "       1., 0., 1., 0., 0., 0., 1., 0., 0., 0., 0., 0., 0.])"
      ]
     },
     "execution_count": 346,
     "metadata": {},
     "output_type": "execute_result"
    }
   ],
   "source": [
    "a = np.random.rand(30)\n",
    "np.around(a)"
   ]
  },
  {
   "cell_type": "code",
   "execution_count": 347,
   "metadata": {},
   "outputs": [
    {
     "data": {
      "text/plain": [
       "array([0.98948792, 0.67934654, 0.34673991, 0.48885077, 0.5348651 ,\n",
       "       0.08436905, 0.02071519, 0.18776387, 0.52188862, 0.85832073,\n",
       "       0.50843456, 0.60499752, 0.84728409, 0.93295583, 0.00486189,\n",
       "       0.66121463, 0.3157777 , 0.6534353 , 0.12888288, 0.54033186,\n",
       "       0.44024959, 0.37952039, 0.0833081 , 0.55721317, 0.36309742,\n",
       "       0.2762448 , 0.46041519, 0.00914704, 0.35695435, 0.45490402])"
      ]
     },
     "execution_count": 347,
     "metadata": {},
     "output_type": "execute_result"
    }
   ],
   "source": [
    "a"
   ]
  },
  {
   "cell_type": "code",
   "execution_count": null,
   "metadata": {},
   "outputs": [],
   "source": []
  }
 ],
 "metadata": {
  "anaconda-cloud": {},
  "kernelspec": {
   "display_name": "Python 3",
   "language": "python",
   "name": "python3"
  },
  "language_info": {
   "codemirror_mode": {
    "name": "ipython",
    "version": 3
   },
   "file_extension": ".py",
   "mimetype": "text/x-python",
   "name": "python",
   "nbconvert_exporter": "python",
   "pygments_lexer": "ipython3",
   "version": "3.6.3"
  }
 },
 "nbformat": 4,
 "nbformat_minor": 4
}
