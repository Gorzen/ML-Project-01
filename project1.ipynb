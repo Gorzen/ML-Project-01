{
 "cells": [
  {
   "cell_type": "code",
   "execution_count": 47,
   "metadata": {},
   "outputs": [
    {
     "name": "stdout",
     "output_type": "stream",
     "text": [
      "The autoreload extension is already loaded. To reload it, use:\n",
      "  %reload_ext autoreload\n"
     ]
    }
   ],
   "source": [
    "# Useful starting lines\n",
    "%matplotlib inline\n",
    "import numpy as np\n",
    "import matplotlib.pyplot as plt\n",
    "from proj1_helpers import *\n",
    "from helpers import *\n",
    "from implementations import *\n",
    "%load_ext autoreload\n",
    "%autoreload 2"
   ]
  },
  {
   "cell_type": "markdown",
   "metadata": {},
   "source": [
    "## Load the training data into feature matrix, class labels, and event ids:"
   ]
  },
  {
   "cell_type": "code",
   "execution_count": 48,
   "metadata": {
    "collapsed": false,
    "jupyter": {
     "outputs_hidden": false
    }
   },
   "outputs": [
    {
     "data": {
      "text/plain": [
       "(125000, 30)"
      ]
     },
     "execution_count": 48,
     "metadata": {},
     "output_type": "execute_result"
    }
   ],
   "source": [
    "DATA_TRAIN_PATH = 'data/train.csv' \n",
    "y, x, ids = load_csv_data(DATA_TRAIN_PATH)\n",
    "x_train, x_test, y_train, y_test = split_data(x, y, 0.5)\n",
    "x_train.shape"
   ]
  },
  {
   "cell_type": "markdown",
   "metadata": {},
   "source": [
    "Reduce dimensions and standardize the columns of X"
   ]
  },
  {
   "cell_type": "code",
   "execution_count": 51,
   "metadata": {},
   "outputs": [],
   "source": [
    "x_train_red = x_train[:, [0, 1, 2, 3, 8, 9, 10, 11, 13, 19, 21, 22, 29]]\n",
    "x_test_red = x_test[:, [0, 1, 2, 3, 8, 9, 10, 11, 13, 19, 21, 22, 29]]\n",
    "\n",
    "x_train_red_norm = standardize(x_train_red)\n",
    "x_test_red_norm = standardize(x_test_red)"
   ]
  },
  {
   "cell_type": "markdown",
   "metadata": {},
   "source": [
    "Running logistic regression with different values of degrees (polynomial feature expansion), gamma and different initial weights"
   ]
  },
  {
   "cell_type": "code",
   "execution_count": 54,
   "metadata": {},
   "outputs": [
    {
     "name": "stdout",
     "output_type": "stream",
     "text": [
      "Running logistic regression with polynomial feature expansion with degree 1 and gamma 0.001 , with 2 different initial weights.\n",
      "Gradient have norm of 0.0\n",
      "0 :\n",
      "Accuracy on training set 0.343088\n",
      "Accuracy on test set:,  0.344232\n",
      "Gradient have norm of 0.0\n",
      "1 :\n",
      "Accuracy on training set 0.333728\n",
      "Accuracy on test set:,  0.33432\n",
      "Running logistic regression with polynomial feature expansion with degree 1 and gamma 0.01 , with 2 different initial weights.\n",
      "Gradient have norm of 0.0\n",
      "0 :\n",
      "Accuracy on training set 0.388416\n",
      "Accuracy on test set:,  0.388944\n",
      "Gradient have norm of 2.57804403284e-12\n",
      "1 :\n",
      "Accuracy on training set 0.494768\n",
      "Accuracy on test set:,  0.49352\n",
      "Running logistic regression with polynomial feature expansion with degree 1 and gamma 0.05 , with 2 different initial weights.\n",
      "Gradient have norm of 0.0\n",
      "0 :\n",
      "Accuracy on training set 0.66008\n",
      "Accuracy on test set:,  0.658608\n",
      "Gradient have norm of 0.0\n",
      "1 :\n",
      "Accuracy on training set 0.65956\n",
      "Accuracy on test set:,  0.657808\n",
      "Running logistic regression with polynomial feature expansion with degree 1 and gamma 0.1 , with 2 different initial weights.\n",
      "Gradient have norm of 10.9976007762\n",
      "0 :\n",
      "Accuracy on training set 0.657896\n",
      "Accuracy on test set:,  0.656768\n",
      "Gradient have norm of 2.27390883371e-13\n",
      "1 :\n",
      "Accuracy on training set 0.354504\n",
      "Accuracy on test set:,  0.356128\n",
      "Running logistic regression with polynomial feature expansion with degree 1 and gamma 0.5 , with 2 different initial weights.\n",
      "Gradient have norm of 0.0\n",
      "0 :\n",
      "Accuracy on training set 0.663904\n",
      "Accuracy on test set:,  0.663\n",
      "Gradient have norm of 0.0\n",
      "1 :\n",
      "Accuracy on training set 0.655656\n",
      "Accuracy on test set:,  0.658504\n",
      "Running logistic regression with polynomial feature expansion with degree 2 and gamma 0.001 , with 2 different initial weights.\n",
      "Gradient have norm of 1.18582815253e-14\n",
      "0 :\n",
      "Accuracy on training set 0.347872\n",
      "Accuracy on test set:,  0.348344\n",
      "Gradient have norm of 6.14189657396e-12\n",
      "1 :\n",
      "Accuracy on training set 0.343088\n",
      "Accuracy on test set:,  0.344312\n",
      "Running logistic regression with polynomial feature expansion with degree 2 and gamma 0.01 , with 2 different initial weights.\n",
      "Gradient have norm of 0.0\n",
      "0 :\n",
      "Accuracy on training set 0.634384\n",
      "Accuracy on test set:,  0.635688\n",
      "Gradient have norm of 1.87321368028e-12\n",
      "1 :\n",
      "Accuracy on training set 0.343872\n",
      "Accuracy on test set:,  0.3452\n",
      "Running logistic regression with polynomial feature expansion with degree 2 and gamma 0.05 , with 2 different initial weights.\n",
      "Gradient have norm of 0.0\n",
      "0 :\n",
      "Accuracy on training set 0.66792\n",
      "Accuracy on test set:,  0.667112\n",
      "Gradient have norm of 0.0\n",
      "1 :\n",
      "Accuracy on training set 0.597152\n",
      "Accuracy on test set:,  0.601\n",
      "Running logistic regression with polynomial feature expansion with degree 2 and gamma 0.1 , with 2 different initial weights.\n",
      "Gradient have norm of 0.0\n",
      "0 :\n",
      "Accuracy on training set 0.624056\n",
      "Accuracy on test set:,  0.630848\n",
      "Gradient have norm of 0.0\n",
      "1 :\n",
      "Accuracy on training set 0.66\n",
      "Accuracy on test set:,  0.659232\n",
      "Running logistic regression with polynomial feature expansion with degree 2 and gamma 0.5 , with 2 different initial weights.\n",
      "Gradient have norm of 0.0\n",
      "0 :\n",
      "Accuracy on training set 0.661952\n",
      "Accuracy on test set:,  0.660344\n",
      "Gradient have norm of 0.0\n",
      "1 :\n",
      "Accuracy on training set 0.65844\n",
      "Accuracy on test set:,  0.65732\n"
     ]
    },
    {
     "ename": "KeyboardInterrupt",
     "evalue": "",
     "output_type": "error",
     "traceback": [
      "\u001b[0;31m---------------------------------------------------------------------------\u001b[0m",
      "\u001b[0;31mKeyboardInterrupt\u001b[0m                         Traceback (most recent call last)",
      "\u001b[0;32m<ipython-input-54-1112d4174141>\u001b[0m in \u001b[0;36m<module>\u001b[0;34m()\u001b[0m\n\u001b[1;32m      2\u001b[0m \u001b[0;34m\u001b[0m\u001b[0m\n\u001b[1;32m      3\u001b[0m \u001b[0;32mfor\u001b[0m \u001b[0mdegree\u001b[0m \u001b[0;32min\u001b[0m \u001b[0mrange\u001b[0m\u001b[0;34m(\u001b[0m\u001b[0;36m1\u001b[0m\u001b[0;34m,\u001b[0m \u001b[0;36m5\u001b[0m\u001b[0;34m)\u001b[0m\u001b[0;34m:\u001b[0m\u001b[0;34m\u001b[0m\u001b[0m\n\u001b[0;32m----> 4\u001b[0;31m     \u001b[0mtx_train\u001b[0m \u001b[0;34m=\u001b[0m \u001b[0mbuild_poly_cross_2\u001b[0m\u001b[0;34m(\u001b[0m\u001b[0mx_train_red_norm\u001b[0m\u001b[0;34m)\u001b[0m\u001b[0;34m\u001b[0m\u001b[0m\n\u001b[0m\u001b[1;32m      5\u001b[0m     \u001b[0mtx_test\u001b[0m \u001b[0;34m=\u001b[0m \u001b[0mbuild_poly_cross_2\u001b[0m\u001b[0;34m(\u001b[0m\u001b[0mx_test_red_norm\u001b[0m\u001b[0;34m)\u001b[0m\u001b[0;34m\u001b[0m\u001b[0m\n\u001b[1;32m      6\u001b[0m     \u001b[0;32mfor\u001b[0m \u001b[0mgamma\u001b[0m \u001b[0;32min\u001b[0m \u001b[0mnp\u001b[0m\u001b[0;34m.\u001b[0m\u001b[0marray\u001b[0m\u001b[0;34m(\u001b[0m\u001b[0;34m[\u001b[0m\u001b[0;36m0.001\u001b[0m\u001b[0;34m,\u001b[0m \u001b[0;36m0.01\u001b[0m\u001b[0;34m,\u001b[0m \u001b[0;36m0.05\u001b[0m\u001b[0;34m,\u001b[0m \u001b[0;36m0.1\u001b[0m\u001b[0;34m,\u001b[0m \u001b[0;36m0.5\u001b[0m\u001b[0;34m]\u001b[0m\u001b[0;34m)\u001b[0m\u001b[0;34m:\u001b[0m\u001b[0;34m\u001b[0m\u001b[0m\n",
      "\u001b[0;32m~/ml/helpers.py\u001b[0m in \u001b[0;36mbuild_poly_cross_2\u001b[0;34m(tx)\u001b[0m\n\u001b[1;32m     77\u001b[0m                 \u001b[0mcross_ind\u001b[0m\u001b[0;34m.\u001b[0m\u001b[0mappend\u001b[0m\u001b[0;34m(\u001b[0m\u001b[0;34m[\u001b[0m\u001b[0mi\u001b[0m\u001b[0;34m,\u001b[0m \u001b[0mj\u001b[0m\u001b[0;34m]\u001b[0m\u001b[0;34m)\u001b[0m\u001b[0;34m\u001b[0m\u001b[0m\n\u001b[1;32m     78\u001b[0m     \u001b[0;32mfor\u001b[0m \u001b[0mi\u001b[0m\u001b[0;34m,\u001b[0m \u001b[0mj\u001b[0m \u001b[0;32min\u001b[0m \u001b[0mcross_ind\u001b[0m\u001b[0;34m:\u001b[0m\u001b[0;34m\u001b[0m\u001b[0m\n\u001b[0;32m---> 79\u001b[0;31m         \u001b[0mmatrix\u001b[0m \u001b[0;34m=\u001b[0m \u001b[0mnp\u001b[0m\u001b[0;34m.\u001b[0m\u001b[0mhstack\u001b[0m\u001b[0;34m(\u001b[0m\u001b[0;34m(\u001b[0m\u001b[0mmatrix\u001b[0m\u001b[0;34m,\u001b[0m \u001b[0;34m(\u001b[0m\u001b[0mtx\u001b[0m\u001b[0;34m[\u001b[0m\u001b[0;34m:\u001b[0m\u001b[0;34m,\u001b[0m \u001b[0mi\u001b[0m\u001b[0;34m]\u001b[0m\u001b[0;34m*\u001b[0m\u001b[0mtx\u001b[0m\u001b[0;34m[\u001b[0m\u001b[0;34m:\u001b[0m\u001b[0;34m,\u001b[0m \u001b[0mj\u001b[0m\u001b[0;34m]\u001b[0m\u001b[0;34m)\u001b[0m\u001b[0;34m.\u001b[0m\u001b[0mreshape\u001b[0m\u001b[0;34m(\u001b[0m\u001b[0mN\u001b[0m\u001b[0;34m,\u001b[0m \u001b[0;36m1\u001b[0m\u001b[0;34m)\u001b[0m\u001b[0;34m)\u001b[0m\u001b[0;34m)\u001b[0m\u001b[0;34m\u001b[0m\u001b[0m\n\u001b[0m\u001b[1;32m     80\u001b[0m \u001b[0;34m\u001b[0m\u001b[0m\n\u001b[1;32m     81\u001b[0m     \u001b[0;32mreturn\u001b[0m \u001b[0mmatrix\u001b[0m\u001b[0;34m\u001b[0m\u001b[0m\n",
      "\u001b[0;32m/opt/anaconda3/lib/python3.6/site-packages/numpy/core/shape_base.py\u001b[0m in \u001b[0;36mhstack\u001b[0;34m(tup)\u001b[0m\n\u001b[1;32m    291\u001b[0m         \u001b[0;32mreturn\u001b[0m \u001b[0m_nx\u001b[0m\u001b[0;34m.\u001b[0m\u001b[0mconcatenate\u001b[0m\u001b[0;34m(\u001b[0m\u001b[0marrs\u001b[0m\u001b[0;34m,\u001b[0m \u001b[0;36m0\u001b[0m\u001b[0;34m)\u001b[0m\u001b[0;34m\u001b[0m\u001b[0m\n\u001b[1;32m    292\u001b[0m     \u001b[0;32melse\u001b[0m\u001b[0;34m:\u001b[0m\u001b[0;34m\u001b[0m\u001b[0m\n\u001b[0;32m--> 293\u001b[0;31m         \u001b[0;32mreturn\u001b[0m \u001b[0m_nx\u001b[0m\u001b[0;34m.\u001b[0m\u001b[0mconcatenate\u001b[0m\u001b[0;34m(\u001b[0m\u001b[0marrs\u001b[0m\u001b[0;34m,\u001b[0m \u001b[0;36m1\u001b[0m\u001b[0;34m)\u001b[0m\u001b[0;34m\u001b[0m\u001b[0m\n\u001b[0m\u001b[1;32m    294\u001b[0m \u001b[0;34m\u001b[0m\u001b[0m\n\u001b[1;32m    295\u001b[0m \u001b[0;34m\u001b[0m\u001b[0m\n",
      "\u001b[0;31mKeyboardInterrupt\u001b[0m: "
     ]
    }
   ],
   "source": [
    "number_of_w = 2\n",
    "\n",
    "for degree in range(1, 5):\n",
    "    tx_train = build_poly_cross_2(x_train_red_norm)\n",
    "    tx_test = build_poly_cross_2(x_test_red_norm)\n",
    "    for gamma in np.array([0.001, 0.01, 0.05, 0.1, 0.5]):\n",
    "        print(\"Running logistic regression with polynomial feature expansion with degree\", degree, \n",
    "                 \"and gamma\", gamma,\", with\", number_of_w, \"different initial weights.\")\n",
    "        for i in  range(number_of_w):\n",
    "            w_init = np.random.rand(tx_train.shape[1], 1)\n",
    "            w, loss = logistic_regression(y_train, tx_train, w_init, 5000, gamma)\n",
    "            print(i,\":\")\n",
    "            print(\"Accuracy on training set\", compute_accuracy(y_train, tx_train, w))\n",
    "            print(\"Accuracy on test set:, \", compute_accuracy(y_test, tx_test, w))"
   ]
  },
  {
   "cell_type": "markdown",
   "metadata": {},
   "source": [
    "## Generate predictions and save ouput in csv format for submission:\n"
   ]
  },
  {
   "cell_type": "code",
   "execution_count": 10,
   "metadata": {
    "collapsed": false,
    "jupyter": {
     "outputs_hidden": false
    }
   },
   "outputs": [],
   "source": [
    "DATA_TEST_PATH = '' # TODO: download train data and supply path here \n",
    "_, tX_test, ids_test = load_csv_data(DATA_TEST_PATH)"
   ]
  },
  {
   "cell_type": "code",
   "execution_count": 31,
   "metadata": {
    "collapsed": false,
    "jupyter": {
     "outputs_hidden": false
    }
   },
   "outputs": [],
   "source": [
    "OUTPUT_PATH = '' # TODO: fill in desired name of output file for submission\n",
    "y_pred = predict_labels(weights, tX_test)\n",
    "create_csv_submission(ids_test, y_pred, OUTPUT_PATH)"
   ]
  },
  {
   "cell_type": "code",
   "execution_count": 346,
   "metadata": {},
   "outputs": [
    {
     "data": {
      "text/plain": [
       "array([1., 1., 0., 0., 1., 0., 0., 0., 1., 1., 1., 1., 1., 1., 0., 1., 0.,\n",
       "       1., 0., 1., 0., 0., 0., 1., 0., 0., 0., 0., 0., 0.])"
      ]
     },
     "execution_count": 346,
     "metadata": {},
     "output_type": "execute_result"
    }
   ],
   "source": [
    "a = np.random.rand(30)\n",
    "np.around(a)"
   ]
  },
  {
   "cell_type": "code",
   "execution_count": 347,
   "metadata": {},
   "outputs": [
    {
     "data": {
      "text/plain": [
       "array([0.98948792, 0.67934654, 0.34673991, 0.48885077, 0.5348651 ,\n",
       "       0.08436905, 0.02071519, 0.18776387, 0.52188862, 0.85832073,\n",
       "       0.50843456, 0.60499752, 0.84728409, 0.93295583, 0.00486189,\n",
       "       0.66121463, 0.3157777 , 0.6534353 , 0.12888288, 0.54033186,\n",
       "       0.44024959, 0.37952039, 0.0833081 , 0.55721317, 0.36309742,\n",
       "       0.2762448 , 0.46041519, 0.00914704, 0.35695435, 0.45490402])"
      ]
     },
     "execution_count": 347,
     "metadata": {},
     "output_type": "execute_result"
    }
   ],
   "source": [
    "a"
   ]
  },
  {
   "cell_type": "code",
   "execution_count": null,
   "metadata": {},
   "outputs": [],
   "source": []
  }
 ],
 "metadata": {
  "anaconda-cloud": {},
  "kernelspec": {
   "display_name": "Python 3",
   "language": "python",
   "name": "python3"
  },
  "language_info": {
   "codemirror_mode": {
    "name": "ipython",
    "version": 3
   },
   "file_extension": ".py",
   "mimetype": "text/x-python",
   "name": "python",
   "nbconvert_exporter": "python",
   "pygments_lexer": "ipython3",
   "version": "3.6.3"
  }
 },
 "nbformat": 4,
 "nbformat_minor": 4
}
