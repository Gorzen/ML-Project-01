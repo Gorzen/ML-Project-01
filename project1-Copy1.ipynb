{
 "cells": [
  {
   "cell_type": "code",
   "execution_count": 62,
   "metadata": {},
   "outputs": [
    {
     "name": "stdout",
     "output_type": "stream",
     "text": [
      "The autoreload extension is already loaded. To reload it, use:\n",
      "  %reload_ext autoreload\n"
     ]
    }
   ],
   "source": [
    "# Useful starting lines\n",
    "%matplotlib inline\n",
    "import numpy as np\n",
    "import matplotlib.pyplot as plt\n",
    "from proj1_helpers import *\n",
    "from helpers import *\n",
    "from implementations import *\n",
    "from plots import *\n",
    "%load_ext autoreload\n",
    "%autoreload 2"
   ]
  },
  {
   "cell_type": "markdown",
   "metadata": {},
   "source": [
    "#### Load the training data into feature matrix, class labels, and event ids:"
   ]
  },
  {
   "cell_type": "code",
   "execution_count": 63,
   "metadata": {
    "collapsed": false,
    "jupyter": {
     "outputs_hidden": false
    }
   },
   "outputs": [],
   "source": [
    "y, x, _ = load_csv_data('data/train.csv')"
   ]
  },
  {
   "cell_type": "code",
   "execution_count": 64,
   "metadata": {},
   "outputs": [],
   "source": [
    "x_s = sanitize(x)"
   ]
  },
  {
   "cell_type": "code",
   "execution_count": 65,
   "metadata": {},
   "outputs": [],
   "source": [
    "x_train, x_test, y_train, y_test = split_data(x_s, y, 0.8)"
   ]
  },
  {
   "cell_type": "code",
   "execution_count": 66,
   "metadata": {},
   "outputs": [],
   "source": [
    "x_train = add_bias(x_train)\n",
    "x_test = add_bias(x_test)"
   ]
  },
  {
   "cell_type": "markdown",
   "metadata": {},
   "source": [
    "#### Sanitizing the missing values and standardize the features"
   ]
  },
  {
   "cell_type": "code",
   "execution_count": 67,
   "metadata": {},
   "outputs": [],
   "source": [
    "def split_data_22(x_o, y_o):\n",
    "    y = y_o.copy()\n",
    "    x = x_o.copy()\n",
    "    y = y.reshape((y.shape[0], 1))\n",
    "\n",
    "    feature_22 = x[:, 23]\n",
    "    x_minus_22 = x[:, np.array(range(x.shape[1])) != 23]\n",
    "    x_sep = []\n",
    "    y_sep = []\n",
    "\n",
    "    categories_22 = np.unique(feature_22)\n",
    "\n",
    "    for i in np.unique(feature_22):\n",
    "        print(i)\n",
    "        x_sep.append(x_minus_22[feature_22 == i, :])\n",
    "        y_sep.append(y[feature_22 == i, :])\n",
    "\n",
    "    return x_sep, y_sep"
   ]
  },
  {
   "cell_type": "code",
   "execution_count": 68,
   "metadata": {},
   "outputs": [
    {
     "name": "stdout",
     "output_type": "stream",
     "text": [
      "0.0\n",
      "1.0\n",
      "2.0\n",
      "3.0\n",
      "0.0\n",
      "1.0\n",
      "2.0\n",
      "3.0\n"
     ]
    }
   ],
   "source": [
    "x_sep_train, y_sep_train = split_data_22(x_train, y_train)\n",
    "x_sep_test, y_sep_test = split_data_22(x_test, y_test)"
   ]
  },
  {
   "cell_type": "code",
   "execution_count": 69,
   "metadata": {},
   "outputs": [],
   "source": [
    "extended_x_sep_train = [feature_expansion(e) for e in x_sep_train]\n",
    "extended_x_sep_test = [feature_expansion(e) for e in x_sep_test]"
   ]
  },
  {
   "cell_type": "code",
   "execution_count": 82,
   "metadata": {},
   "outputs": [],
   "source": [
    "def ridge(extended_x_sep, y_sep, _lambda):\n",
    "    accuracies = []\n",
    "    weights = []\n",
    "    ys = []\n",
    "\n",
    "    for i, x_chunk in enumerate(extended_x_sep):\n",
    "        w_init = np.random.rand(x_chunk.shape[1], 1)\n",
    "        w, loss = ridge_regression(y_sep[i], x_chunk, _lambda)\n",
    "        y_pred = predict_labels(w, x_chunk)\n",
    "        accuracies.append(compute_accuracy_linear_reg(y_sep[i], y_pred))\n",
    "        weights.append(w)\n",
    "        ys.append(y_pred)\n",
    "\n",
    "    return weights, np.sum(accuracies)/4"
   ]
  },
  {
   "cell_type": "code",
   "execution_count": 85,
   "metadata": {},
   "outputs": [],
   "source": [
    "def ridge_test(extended_x_sep, y_sep, w):\n",
    "    accuracies = []\n",
    "    for i, x_chunk in enumerate(extended_x_sep):\n",
    "        y_pred = predict_labels(w[i], x_chunk)\n",
    "        accuracies.append(compute_accuracy_linear_reg(y_sep[i], y_pred))\n",
    "    return np.sum(accuracies)/4"
   ]
  },
  {
   "cell_type": "code",
   "execution_count": 86,
   "metadata": {},
   "outputs": [
    {
     "data": {
      "image/png": "[encoded data removed]",
      "text/plain": [
       "<Figure size 432x288 with 1 Axes>"
      ]
     },
     "metadata": {
      "needs_background": "light"
     },
     "output_type": "display_data"
    }
   ],
   "source": [
    "lambdas = np.logspace(-5, 0, 15)\n",
    "lambdas = np.concatenate((lambdas, [2, 3]))\n",
    "degree = 1\n",
    "rmse_tr = []\n",
    "rmse_te = []\n",
    "for ind, lambda_ in enumerate(lambdas):\n",
    "    # ***************************************************\n",
    "    # INSERT YOUR CODE HERE\n",
    "    # ridge regression with a given lambda\n",
    "    # ***************************************************\n",
    "    w, acc_train = ridge(extended_x_sep_train, y_sep_train, lambda_)\n",
    "    rmse_tr.append(acc_train)\n",
    "    acc_test = ridge_test(extended_x_sep_test, y_sep_test, w)\n",
    "    rmse_te.append(acc_test)\n",
    "\n",
    "# Plot the obtained results\n",
    "plot_train_test(rmse_tr, rmse_te, lambdas, degree)"
   ]
  },
  {
   "cell_type": "code",
   "execution_count": 80,
   "metadata": {},
   "outputs": [
    {
     "data": {
      "text/plain": [
       "[0.0,\n",
       " 0.0,\n",
       " 0.0,\n",
       " 0.0,\n",
       " 0.0,\n",
       " 0.0,\n",
       " 0.0,\n",
       " 0.0,\n",
       " 0.0,\n",
       " 0.0,\n",
       " 0.0,\n",
       " 0.0,\n",
       " 0.0,\n",
       " 0.0,\n",
       " 0.0,\n",
       " 0.0,\n",
       " 0.0]"
      ]
     },
     "execution_count": 80,
     "metadata": {},
     "output_type": "execute_result"
    }
   ],
   "source": [
    "rmse_te"
   ]
  },
  {
   "cell_type": "code",
   "execution_count": null,
   "metadata": {},
   "outputs": [],
   "source": [
    "# Rebuilding final y for submission, in progress\n",
    "N = x_train.shape[0]\n",
    "predictions = np.zeros((N,1))\n",
    "\n",
    "for i, value in enumerate(categories_22):\n",
    "    ind = np.arange(N)[feature_22 == value]\n",
    "    predictions[ind] = ys[i]\n",
    "\n",
    "predictions"
   ]
  },
  {
   "cell_type": "code",
   "execution_count": null,
   "metadata": {},
   "outputs": [],
   "source": [
    "compute_accuracy_linear_reg(y, predictions)"
   ]
  },
  {
   "cell_type": "markdown",
   "metadata": {},
   "source": [
    "## Generate predictions and save ouput in csv format for submission:\n"
   ]
  },
  {
   "cell_type": "code",
   "execution_count": 34,
   "metadata": {
    "collapsed": false,
    "jupyter": {
     "outputs_hidden": false
    }
   },
   "outputs": [],
   "source": [
    "_, x_test, ids_test = load_csv_data('data/test.csv')"
   ]
  },
  {
   "cell_type": "code",
   "execution_count": 39,
   "metadata": {},
   "outputs": [
    {
     "data": {
      "text/plain": [
       "array([[ 0.        ,  0.85695592, -1.41340956, ..., -0.86258746,\n",
       "         0.73572682, -0.67727841],\n",
       "       [-0.07180953,  0.19686173,  0.37643086, ..., -0.86258746,\n",
       "         0.73572682, -0.67727841],\n",
       "       [ 0.24635352, -0.52705785,  0.39940857, ..., -0.86258746,\n",
       "         0.73572682, -0.67727841],\n",
       "       ...,\n",
       "       [-0.05036034,  0.75185168,  0.06502106, ..., -0.86258746,\n",
       "         0.73572682, -0.67727841],\n",
       "       [-0.23553134, -1.1138051 , -0.39465676, ..., -0.86258746,\n",
       "         0.73572682, -0.67727841],\n",
       "       [-0.51947781,  0.87164791, -0.08655773, ..., -0.86258746,\n",
       "         0.73572682, -0.67727841]])"
      ]
     },
     "execution_count": 39,
     "metadata": {},
     "output_type": "execute_result"
    }
   ],
   "source": [
    "extended_x_sep_t = [add_sqrt(e) for e in x_sep_t]\n",
    "extended_x_sep_t[0]"
   ]
  },
  {
   "cell_type": "code",
   "execution_count": 40,
   "metadata": {},
   "outputs": [],
   "source": [
    "y_sep_t = []\n",
    "\n",
    "for i, w in enumerate(weights):\n",
    "    y_t = predict_labels(w, extended_x_sep_t[i])\n",
    "    y_sep_t.append(y_t)"
   ]
  },
  {
   "cell_type": "code",
   "execution_count": 42,
   "metadata": {},
   "outputs": [
    {
     "data": {
      "text/plain": [
       "array([[-1.],\n",
       "       [-1.],\n",
       "       [-1.],\n",
       "       ...,\n",
       "       [ 1.],\n",
       "       [-1.],\n",
       "       [-1.]])"
      ]
     },
     "execution_count": 42,
     "metadata": {},
     "output_type": "execute_result"
    }
   ],
   "source": [
    "# Rebuilding final y for submission, in progress\n",
    "N = x_test.shape[0]\n",
    "predictions_t = np.zeros((N,1))\n",
    "\n",
    "for i, value in enumerate(categories_22_t):\n",
    "    ind = np.arange(N)[feature_22_t == value]\n",
    "    predictions_t[ind] = y_sep_t[i]\n",
    "\n",
    "predictions_t"
   ]
  },
  {
   "cell_type": "code",
   "execution_count": 45,
   "metadata": {
    "collapsed": false,
    "jupyter": {
     "outputs_hidden": false
    }
   },
   "outputs": [],
   "source": [
    "OUTPUT_PATH = 'predictions.csv'\n",
    "create_csv_submission(ids_test, predictions_t, OUTPUT_PATH)"
   ]
  },
  {
   "cell_type": "code",
   "execution_count": null,
   "metadata": {},
   "outputs": [],
   "source": []
  }
 ],
 "metadata": {
  "anaconda-cloud": {},
  "kernelspec": {
   "display_name": "Python 3",
   "language": "python",
   "name": "python3"
  },
  "language_info": {
   "codemirror_mode": {
    "name": "ipython",
    "version": 3
   },
   "file_extension": ".py",
   "mimetype": "text/x-python",
   "name": "python",
   "nbconvert_exporter": "python",
   "pygments_lexer": "ipython3",
   "version": "3.7.4"
  }
 },
 "nbformat": 4,
 "nbformat_minor": 4
}
